{
 "cells": [
  {
   "cell_type": "code",
   "execution_count": 1,
   "metadata": {},
   "outputs": [],
   "source": [
    "import pandas as pd"
   ]
  },
  {
   "cell_type": "code",
   "execution_count": 8,
   "metadata": {},
   "outputs": [],
   "source": [
    "events_data = pd.read_csv('https://stepik.org/media/attachments/course/4852/event_data_train.zip')"
   ]
  },
  {
   "cell_type": "code",
   "execution_count": 3,
   "metadata": {},
   "outputs": [],
   "source": [
    "submissions_data = pd.read_csv('https://stepik.org/media/attachments/course/4852/submissions_data_train.zip')"
   ]
  },
  {
   "attachments": {},
   "cell_type": "markdown",
   "metadata": {},
   "source": [
    "### Найти id Анатолия Карпова"
   ]
  },
  {
   "attachments": {},
   "cell_type": "markdown",
   "metadata": {},
   "source": [
    "##### В выборке отсортированной по количеству всех попыток решения степов он оказался третьим"
   ]
  },
  {
   "cell_type": "code",
   "execution_count": 4,
   "metadata": {},
   "outputs": [
    {
     "data": {
      "text/html": [
       "<div>\n",
       "<style scoped>\n",
       "    .dataframe tbody tr th:only-of-type {\n",
       "        vertical-align: middle;\n",
       "    }\n",
       "\n",
       "    .dataframe tbody tr th {\n",
       "        vertical-align: top;\n",
       "    }\n",
       "\n",
       "    .dataframe thead th {\n",
       "        text-align: right;\n",
       "    }\n",
       "</style>\n",
       "<table border=\"1\" class=\"dataframe\">\n",
       "  <thead>\n",
       "    <tr style=\"text-align: right;\">\n",
       "      <th></th>\n",
       "      <th>submission_status</th>\n",
       "    </tr>\n",
       "    <tr>\n",
       "      <th>user_id</th>\n",
       "      <th></th>\n",
       "    </tr>\n",
       "  </thead>\n",
       "  <tbody>\n",
       "    <tr>\n",
       "      <th>12265</th>\n",
       "      <td>1051</td>\n",
       "    </tr>\n",
       "    <tr>\n",
       "      <th>3643</th>\n",
       "      <td>948</td>\n",
       "    </tr>\n",
       "    <tr>\n",
       "      <th>1046</th>\n",
       "      <td>934</td>\n",
       "    </tr>\n",
       "    <tr>\n",
       "      <th>14454</th>\n",
       "      <td>920</td>\n",
       "    </tr>\n",
       "    <tr>\n",
       "      <th>643</th>\n",
       "      <td>888</td>\n",
       "    </tr>\n",
       "  </tbody>\n",
       "</table>\n",
       "</div>"
      ],
      "text/plain": [
       "         submission_status\n",
       "user_id                   \n",
       "12265                 1051\n",
       "3643                   948\n",
       "1046                   934\n",
       "14454                  920\n",
       "643                    888"
      ]
     },
     "execution_count": 4,
     "metadata": {},
     "output_type": "execute_result"
    }
   ],
   "source": [
    "submissions_data.groupby('user_id')\\\n",
    "                .agg({'submission_status': 'count'})\\\n",
    "                .sort_values('submission_status', ascending=False)\\\n",
    "                .head()\n"
   ]
  },
  {
   "attachments": {},
   "cell_type": "markdown",
   "metadata": {},
   "source": [
    "##### В выборке отсортированной по количеству правильно решенных степов он на первом месте"
   ]
  },
  {
   "cell_type": "code",
   "execution_count": 5,
   "metadata": {},
   "outputs": [
    {
     "data": {
      "text/html": [
       "<div>\n",
       "<style scoped>\n",
       "    .dataframe tbody tr th:only-of-type {\n",
       "        vertical-align: middle;\n",
       "    }\n",
       "\n",
       "    .dataframe tbody tr th {\n",
       "        vertical-align: top;\n",
       "    }\n",
       "\n",
       "    .dataframe thead th {\n",
       "        text-align: right;\n",
       "    }\n",
       "</style>\n",
       "<table border=\"1\" class=\"dataframe\">\n",
       "  <thead>\n",
       "    <tr style=\"text-align: right;\">\n",
       "      <th>submission_status</th>\n",
       "      <th>correct</th>\n",
       "      <th>wrong</th>\n",
       "    </tr>\n",
       "    <tr>\n",
       "      <th>user_id</th>\n",
       "      <th></th>\n",
       "      <th></th>\n",
       "    </tr>\n",
       "  </thead>\n",
       "  <tbody>\n",
       "    <tr>\n",
       "      <th>1046</th>\n",
       "      <td>421.0</td>\n",
       "      <td>513.0</td>\n",
       "    </tr>\n",
       "    <tr>\n",
       "      <th>5552</th>\n",
       "      <td>186.0</td>\n",
       "      <td>93.0</td>\n",
       "    </tr>\n",
       "    <tr>\n",
       "      <th>17135</th>\n",
       "      <td>168.0</td>\n",
       "      <td>177.0</td>\n",
       "    </tr>\n",
       "    <tr>\n",
       "      <th>6183</th>\n",
       "      <td>142.0</td>\n",
       "      <td>65.0</td>\n",
       "    </tr>\n",
       "    <tr>\n",
       "      <th>8461</th>\n",
       "      <td>135.0</td>\n",
       "      <td>42.0</td>\n",
       "    </tr>\n",
       "  </tbody>\n",
       "</table>\n",
       "</div>"
      ],
      "text/plain": [
       "submission_status  correct  wrong\n",
       "user_id                          \n",
       "1046                 421.0  513.0\n",
       "5552                 186.0   93.0\n",
       "17135                168.0  177.0\n",
       "6183                 142.0   65.0\n",
       "8461                 135.0   42.0"
      ]
     },
     "execution_count": 5,
     "metadata": {},
     "output_type": "execute_result"
    }
   ],
   "source": [
    "submissions_data.pivot_table(index='user_id', \\\n",
    "                             columns='submission_status', \\\n",
    "                             values='step_id', \\\n",
    "                             aggfunc='count').sort_values('correct', ascending=False).head()"
   ]
  },
  {
   "attachments": {},
   "cell_type": "markdown",
   "metadata": {},
   "source": [
    "##### Посмотрим кто первым решил последний степ курса? Это Анатолий"
   ]
  },
  {
   "cell_type": "code",
   "execution_count": 9,
   "metadata": {},
   "outputs": [
    {
     "data": {
      "text/html": [
       "<div>\n",
       "<style scoped>\n",
       "    .dataframe tbody tr th:only-of-type {\n",
       "        vertical-align: middle;\n",
       "    }\n",
       "\n",
       "    .dataframe tbody tr th {\n",
       "        vertical-align: top;\n",
       "    }\n",
       "\n",
       "    .dataframe thead th {\n",
       "        text-align: right;\n",
       "    }\n",
       "</style>\n",
       "<table border=\"1\" class=\"dataframe\">\n",
       "  <thead>\n",
       "    <tr style=\"text-align: right;\">\n",
       "      <th></th>\n",
       "      <th>step_id</th>\n",
       "      <th>timestamp</th>\n",
       "      <th>action</th>\n",
       "      <th>user_id</th>\n",
       "    </tr>\n",
       "  </thead>\n",
       "  <tbody>\n",
       "    <tr>\n",
       "      <th>1780990</th>\n",
       "      <td>158433</td>\n",
       "      <td>1485263664</td>\n",
       "      <td>passed</td>\n",
       "      <td>1046</td>\n",
       "    </tr>\n",
       "    <tr>\n",
       "      <th>1781275</th>\n",
       "      <td>158433</td>\n",
       "      <td>1485271669</td>\n",
       "      <td>passed</td>\n",
       "      <td>3931</td>\n",
       "    </tr>\n",
       "    <tr>\n",
       "      <th>1781402</th>\n",
       "      <td>158433</td>\n",
       "      <td>1485276014</td>\n",
       "      <td>passed</td>\n",
       "      <td>14985</td>\n",
       "    </tr>\n",
       "    <tr>\n",
       "      <th>1782093</th>\n",
       "      <td>158433</td>\n",
       "      <td>1485288441</td>\n",
       "      <td>passed</td>\n",
       "      <td>10626</td>\n",
       "    </tr>\n",
       "    <tr>\n",
       "      <th>1782261</th>\n",
       "      <td>158433</td>\n",
       "      <td>1485292242</td>\n",
       "      <td>passed</td>\n",
       "      <td>3876</td>\n",
       "    </tr>\n",
       "    <tr>\n",
       "      <th>...</th>\n",
       "      <td>...</td>\n",
       "      <td>...</td>\n",
       "      <td>...</td>\n",
       "      <td>...</td>\n",
       "    </tr>\n",
       "    <tr>\n",
       "      <th>3478762</th>\n",
       "      <td>158433</td>\n",
       "      <td>1526744472</td>\n",
       "      <td>passed</td>\n",
       "      <td>19147</td>\n",
       "    </tr>\n",
       "    <tr>\n",
       "      <th>3479191</th>\n",
       "      <td>158433</td>\n",
       "      <td>1526750524</td>\n",
       "      <td>passed</td>\n",
       "      <td>13751</td>\n",
       "    </tr>\n",
       "    <tr>\n",
       "      <th>3479506</th>\n",
       "      <td>158433</td>\n",
       "      <td>1526754540</td>\n",
       "      <td>passed</td>\n",
       "      <td>19491</td>\n",
       "    </tr>\n",
       "    <tr>\n",
       "      <th>3479620</th>\n",
       "      <td>158433</td>\n",
       "      <td>1526755659</td>\n",
       "      <td>passed</td>\n",
       "      <td>2058</td>\n",
       "    </tr>\n",
       "    <tr>\n",
       "      <th>3479953</th>\n",
       "      <td>158433</td>\n",
       "      <td>1526759298</td>\n",
       "      <td>passed</td>\n",
       "      <td>19410</td>\n",
       "    </tr>\n",
       "  </tbody>\n",
       "</table>\n",
       "<p>2317 rows × 4 columns</p>\n",
       "</div>"
      ],
      "text/plain": [
       "         step_id   timestamp  action  user_id\n",
       "1780990   158433  1485263664  passed     1046\n",
       "1781275   158433  1485271669  passed     3931\n",
       "1781402   158433  1485276014  passed    14985\n",
       "1782093   158433  1485288441  passed    10626\n",
       "1782261   158433  1485292242  passed     3876\n",
       "...          ...         ...     ...      ...\n",
       "3478762   158433  1526744472  passed    19147\n",
       "3479191   158433  1526750524  passed    13751\n",
       "3479506   158433  1526754540  passed    19491\n",
       "3479620   158433  1526755659  passed     2058\n",
       "3479953   158433  1526759298  passed    19410\n",
       "\n",
       "[2317 rows x 4 columns]"
      ]
     },
     "execution_count": 9,
     "metadata": {},
     "output_type": "execute_result"
    }
   ],
   "source": [
    "events_data[(events_data.action == 'passed') & (events_data.step_id == events_data.step_id.max())].sort_values('timestamp')"
   ]
  }
 ],
 "metadata": {
  "kernelspec": {
   "display_name": "jupyterenv",
   "language": "python",
   "name": "python3"
  },
  "language_info": {
   "codemirror_mode": {
    "name": "ipython",
    "version": 3
   },
   "file_extension": ".py",
   "mimetype": "text/x-python",
   "name": "python",
   "nbconvert_exporter": "python",
   "pygments_lexer": "ipython3",
   "version": "3.10.6"
  },
  "orig_nbformat": 4
 },
 "nbformat": 4,
 "nbformat_minor": 2
}
