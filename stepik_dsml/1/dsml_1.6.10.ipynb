{
 "cells": [
  {
   "cell_type": "code",
   "execution_count": 1,
   "metadata": {},
   "outputs": [],
   "source": [
    "import pandas as pd\n",
    "import numpy as np"
   ]
  },
  {
   "cell_type": "code",
   "execution_count": 2,
   "metadata": {},
   "outputs": [],
   "source": [
    "df = pd.read_csv('http://stepik.org/media/attachments/course/4852/algae.csv')"
   ]
  },
  {
   "cell_type": "code",
   "execution_count": 35,
   "metadata": {},
   "outputs": [
    {
     "data": {
      "text/html": [
       "<div>\n",
       "<style scoped>\n",
       "    .dataframe tbody tr th:only-of-type {\n",
       "        vertical-align: middle;\n",
       "    }\n",
       "\n",
       "    .dataframe tbody tr th {\n",
       "        vertical-align: top;\n",
       "    }\n",
       "\n",
       "    .dataframe thead th {\n",
       "        text-align: right;\n",
       "    }\n",
       "</style>\n",
       "<table border=\"1\" class=\"dataframe\">\n",
       "  <thead>\n",
       "    <tr style=\"text-align: right;\">\n",
       "      <th></th>\n",
       "      <th>species</th>\n",
       "      <th>genus</th>\n",
       "      <th>group</th>\n",
       "      <th>sucrose</th>\n",
       "      <th>alanin</th>\n",
       "      <th>citrate</th>\n",
       "      <th>glucose</th>\n",
       "      <th>oleic_acid</th>\n",
       "    </tr>\n",
       "  </thead>\n",
       "  <tbody>\n",
       "    <tr>\n",
       "      <th>0</th>\n",
       "      <td>Fucus_vesiculosus</td>\n",
       "      <td>Fucus</td>\n",
       "      <td>brown</td>\n",
       "      <td>3.001472</td>\n",
       "      <td>3.711498</td>\n",
       "      <td>5.004262</td>\n",
       "      <td>2.548459</td>\n",
       "      <td>6.405165</td>\n",
       "    </tr>\n",
       "    <tr>\n",
       "      <th>1</th>\n",
       "      <td>Saccharina_japonica</td>\n",
       "      <td>Saccharina</td>\n",
       "      <td>brown</td>\n",
       "      <td>6.731070</td>\n",
       "      <td>1.255251</td>\n",
       "      <td>5.621499</td>\n",
       "      <td>6.013219</td>\n",
       "      <td>4.156700</td>\n",
       "    </tr>\n",
       "    <tr>\n",
       "      <th>2</th>\n",
       "      <td>Fucus_serratus</td>\n",
       "      <td>Fucus</td>\n",
       "      <td>brown</td>\n",
       "      <td>3.276870</td>\n",
       "      <td>0.346431</td>\n",
       "      <td>1.216767</td>\n",
       "      <td>3.623225</td>\n",
       "      <td>0.304573</td>\n",
       "    </tr>\n",
       "    <tr>\n",
       "      <th>3</th>\n",
       "      <td>Fucus_distichus</td>\n",
       "      <td>Fucus</td>\n",
       "      <td>brown</td>\n",
       "      <td>6.786996</td>\n",
       "      <td>6.641303</td>\n",
       "      <td>6.423606</td>\n",
       "      <td>2.272724</td>\n",
       "      <td>3.393203</td>\n",
       "    </tr>\n",
       "    <tr>\n",
       "      <th>4</th>\n",
       "      <td>Cladophora_fracta</td>\n",
       "      <td>Cladophora</td>\n",
       "      <td>green</td>\n",
       "      <td>3.861470</td>\n",
       "      <td>1.648450</td>\n",
       "      <td>6.940588</td>\n",
       "      <td>2.316955</td>\n",
       "      <td>2.528886</td>\n",
       "    </tr>\n",
       "  </tbody>\n",
       "</table>\n",
       "</div>"
      ],
      "text/plain": [
       "               species       genus  group   sucrose    alanin   citrate   \n",
       "0    Fucus_vesiculosus       Fucus  brown  3.001472  3.711498  5.004262  \\\n",
       "1  Saccharina_japonica  Saccharina  brown  6.731070  1.255251  5.621499   \n",
       "2       Fucus_serratus       Fucus  brown  3.276870  0.346431  1.216767   \n",
       "3      Fucus_distichus       Fucus  brown  6.786996  6.641303  6.423606   \n",
       "4    Cladophora_fracta  Cladophora  green  3.861470  1.648450  6.940588   \n",
       "\n",
       "    glucose  oleic_acid  \n",
       "0  2.548459    6.405165  \n",
       "1  6.013219    4.156700  \n",
       "2  3.623225    0.304573  \n",
       "3  2.272724    3.393203  \n",
       "4  2.316955    2.528886  "
      ]
     },
     "execution_count": 35,
     "metadata": {},
     "output_type": "execute_result"
    }
   ],
   "source": [
    "df.head()"
   ]
  },
  {
   "attachments": {},
   "cell_type": "markdown",
   "metadata": {},
   "source": [
    "##### Число видов бурых, зелёных и красных водорослей"
   ]
  },
  {
   "cell_type": "code",
   "execution_count": 69,
   "metadata": {},
   "outputs": [
    {
     "data": {
      "text/plain": [
       "array([[6],\n",
       "       [3],\n",
       "       [1]], dtype=int64)"
      ]
     },
     "execution_count": 69,
     "metadata": {},
     "output_type": "execute_result"
    }
   ],
   "source": [
    "df.groupby('group').agg({'genus': 'count'}).values"
   ]
  },
  {
   "cell_type": "markdown",
   "metadata": {},
   "source": [
    "##### Дисперсия концентрации цитрата в бурых, зелёных и красных водорослях"
   ]
  },
  {
   "attachments": {},
   "cell_type": "markdown",
   "metadata": {},
   "source": [
    "###### Сложный вариант:"
   ]
  },
  {
   "cell_type": "code",
   "execution_count": 44,
   "metadata": {},
   "outputs": [
    {
     "data": {
      "text/plain": [
       "array([[5.46894219],\n",
       "       [3.95011276],\n",
       "       [       nan]])"
      ]
     },
     "execution_count": 44,
     "metadata": {},
     "output_type": "execute_result"
    }
   ],
   "source": [
    "pow(df.groupby('group').agg({'citrate': 'std'}).values, 2)"
   ]
  },
  {
   "attachments": {},
   "cell_type": "markdown",
   "metadata": {},
   "source": [
    "###### Простой вариант:"
   ]
  },
  {
   "cell_type": "code",
   "execution_count": 68,
   "metadata": {},
   "outputs": [
    {
     "data": {
      "text/plain": [
       "array([[5.47],\n",
       "       [3.95],\n",
       "       [ nan]])"
      ]
     },
     "execution_count": 68,
     "metadata": {},
     "output_type": "execute_result"
    }
   ],
   "source": [
    "df.groupby('group').agg({'citrate': 'var'}).values.round(2)"
   ]
  },
  {
   "attachments": {},
   "cell_type": "markdown",
   "metadata": {},
   "source": [
    "##### Размах (максимум - минимум) сахарозы в бурых, зелёных и красных водорослях"
   ]
  },
  {
   "cell_type": "markdown",
   "metadata": {},
   "source": [
    "##### Через aggregate:"
   ]
  },
  {
   "cell_type": "code",
   "execution_count": 66,
   "metadata": {},
   "outputs": [
    {
     "data": {
      "text/plain": [
       "array([[5.19],\n",
       "       [3.26],\n",
       "       [0.  ]])"
      ]
     },
     "execution_count": 66,
     "metadata": {},
     "output_type": "execute_result"
    }
   ],
   "source": [
    "df.groupby('group').agg({'sucrose': lambda x: x.max() - x.min()}).values.round(2)"
   ]
  },
  {
   "cell_type": "code",
   "execution_count": 93,
   "metadata": {},
   "outputs": [
    {
     "data": {
      "text/plain": [
       "array([[5.19],\n",
       "       [3.26],\n",
       "       [0.  ]])"
      ]
     },
     "execution_count": 93,
     "metadata": {},
     "output_type": "execute_result"
    }
   ],
   "source": [
    "df.groupby('group').agg({'sucrose': np.ptp}).values.round(2)"
   ]
  },
  {
   "attachments": {},
   "cell_type": "markdown",
   "metadata": {},
   "source": [
    "##### Через apply:"
   ]
  },
  {
   "cell_type": "code",
   "execution_count": 67,
   "metadata": {},
   "outputs": [
    {
     "data": {
      "text/plain": [
       "array([5.19, 3.26, 0.  ])"
      ]
     },
     "execution_count": 67,
     "metadata": {},
     "output_type": "execute_result"
    }
   ],
   "source": [
    "df.groupby('group')['sucrose'].apply(lambda x: x.max() - x.min()).values.round(2)"
   ]
  },
  {
   "cell_type": "code",
   "execution_count": 94,
   "metadata": {},
   "outputs": [
    {
     "data": {
      "text/plain": [
       "array([5.19, 3.26, 0.  ])"
      ]
     },
     "execution_count": 94,
     "metadata": {},
     "output_type": "execute_result"
    }
   ],
   "source": [
    "df.groupby('group')['sucrose'].apply(np.ptp).values.round(2)"
   ]
  },
  {
   "attachments": {},
   "cell_type": "markdown",
   "metadata": {},
   "source": [
    "#### Рассчет всех показателей одновременно"
   ]
  },
  {
   "cell_type": "code",
   "execution_count": 90,
   "metadata": {},
   "outputs": [
    {
     "data": {
      "text/plain": [
       "array([[5.47, 5.19, 6.  ],\n",
       "       [3.95, 3.26, 3.  ],\n",
       "       [ nan, 0.  , 1.  ]])"
      ]
     },
     "execution_count": 90,
     "metadata": {},
     "output_type": "execute_result"
    }
   ],
   "source": [
    "df.groupby('group').agg({'citrate': 'var', 'sucrose': np.ptp, 'species': 'nunique'}).round(2).values"
   ]
  }
 ],
 "metadata": {
  "kernelspec": {
   "display_name": "venv",
   "language": "python",
   "name": "python3"
  },
  "language_info": {
   "codemirror_mode": {
    "name": "ipython",
    "version": 3
   },
   "file_extension": ".py",
   "mimetype": "text/x-python",
   "name": "python",
   "nbconvert_exporter": "python",
   "pygments_lexer": "ipython3",
   "version": "3.10.6"
  },
  "orig_nbformat": 4
 },
 "nbformat": 4,
 "nbformat_minor": 2
}
