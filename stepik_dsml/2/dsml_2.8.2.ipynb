{
 "cells": [
  {
   "cell_type": "code",
   "execution_count": 1,
   "metadata": {},
   "outputs": [],
   "source": [
    "%matplotlib inline\n",
    "import matplotlib.pyplot as plt\n",
    "import re\n",
    "import math\n",
    "from collections import Counter\n",
    "import requests\n",
    "import random\n",
    "from string import ascii_lowercase"
   ]
  },
  {
   "cell_type": "code",
   "execution_count": 2,
   "metadata": {},
   "outputs": [],
   "source": [
    "TEXT = requests.get('https://norvig.com/big.txt').text"
   ]
  },
  {
   "cell_type": "code",
   "execution_count": 3,
   "metadata": {},
   "outputs": [
    {
     "data": {
      "text/plain": [
       "6488666"
      ]
     },
     "execution_count": 3,
     "metadata": {},
     "output_type": "execute_result"
    }
   ],
   "source": [
    "len(TEXT)"
   ]
  },
  {
   "cell_type": "code",
   "execution_count": 4,
   "metadata": {},
   "outputs": [],
   "source": [
    "def tokens(text):\n",
    "    return re.findall(r'[a-z]+', text.lower())"
   ]
  },
  {
   "cell_type": "code",
   "execution_count": 5,
   "metadata": {},
   "outputs": [
    {
     "data": {
      "text/plain": [
       "1105285"
      ]
     },
     "execution_count": 5,
     "metadata": {},
     "output_type": "execute_result"
    }
   ],
   "source": [
    "WORDS = tokens(TEXT)\n",
    "len(WORDS)"
   ]
  },
  {
   "cell_type": "code",
   "execution_count": 6,
   "metadata": {},
   "outputs": [
    {
     "data": {
      "text/plain": [
       "['this', 'is', 'a', 'test', 'this', 'is']"
      ]
     },
     "execution_count": 6,
     "metadata": {},
     "output_type": "execute_result"
    }
   ],
   "source": [
    "tokens('This is: A test, 1, 3, 4, this is/.')"
   ]
  },
  {
   "cell_type": "code",
   "execution_count": 7,
   "metadata": {},
   "outputs": [
    {
     "data": {
      "text/plain": [
       "29157"
      ]
     },
     "execution_count": 7,
     "metadata": {},
     "output_type": "execute_result"
    }
   ],
   "source": [
    "WORDS_UNIQUE = list(set(WORDS))\n",
    "len(WORDS_UNIQUE)"
   ]
  },
  {
   "cell_type": "code",
   "execution_count": 8,
   "metadata": {},
   "outputs": [
    {
     "name": "stdout",
     "output_type": "stream",
     "text": [
      "['fix', 'ville', 'writs', 'gonorrhoeal', 'bast', 'thymus', 'circumspect', 'thinks', 'exorbitant', 'alpha']\n"
     ]
    }
   ],
   "source": [
    "print(WORDS_UNIQUE[:10])"
   ]
  },
  {
   "cell_type": "code",
   "execution_count": 9,
   "metadata": {},
   "outputs": [
    {
     "name": "stdout",
     "output_type": "stream",
     "text": [
      "['the', 'project', 'gutenberg', 'ebook', 'of', 'the', 'adventures', 'of', 'sherlock', 'holmes']\n"
     ]
    }
   ],
   "source": [
    "print(WORDS[:10])"
   ]
  },
  {
   "cell_type": "code",
   "execution_count": 10,
   "metadata": {},
   "outputs": [],
   "source": [
    "def sample(bag, n=10):\n",
    "    return ' '.join(random.choice(bag) for _ in range(n))"
   ]
  },
  {
   "cell_type": "code",
   "execution_count": 11,
   "metadata": {},
   "outputs": [
    {
     "data": {
      "text/plain": [
       "'felt a that one a of wheels or pierre russian'"
      ]
     },
     "execution_count": 11,
     "metadata": {},
     "output_type": "execute_result"
    }
   ],
   "source": [
    "sample(WORDS)"
   ]
  },
  {
   "cell_type": "code",
   "execution_count": 12,
   "metadata": {},
   "outputs": [
    {
     "data": {
      "text/plain": [
       "Counter({'is': 2, 'this': 1, 'a': 2, 'test': 2, 'it': 1})"
      ]
     },
     "execution_count": 12,
     "metadata": {},
     "output_type": "execute_result"
    }
   ],
   "source": [
    "Counter(tokens(\"Is this a test? It is a test!\"))"
   ]
  },
  {
   "cell_type": "code",
   "execution_count": 13,
   "metadata": {},
   "outputs": [],
   "source": [
    "COUNTS = Counter(WORDS)"
   ]
  },
  {
   "cell_type": "code",
   "execution_count": 14,
   "metadata": {},
   "outputs": [
    {
     "name": "stdout",
     "output_type": "stream",
     "text": [
      "[('the', 80030), ('of', 40025), ('and', 38313), ('to', 28766), ('in', 22050), ('a', 21155), ('that', 12512), ('he', 12401), ('was', 11410), ('it', 10681)]\n"
     ]
    }
   ],
   "source": [
    "print(COUNTS.most_common(10))"
   ]
  },
  {
   "cell_type": "code",
   "execution_count": 15,
   "metadata": {},
   "outputs": [
    {
     "data": {
      "text/plain": [
       "29157"
      ]
     },
     "execution_count": 15,
     "metadata": {},
     "output_type": "execute_result"
    }
   ],
   "source": [
    "len(COUNTS)"
   ]
  },
  {
   "cell_type": "code",
   "execution_count": 16,
   "metadata": {},
   "outputs": [
    {
     "name": "stdout",
     "output_type": "stream",
     "text": [
      "80030 the\n",
      "83 rare\n",
      "38313 and\n",
      "0 neverbeforeseen\n",
      "460 words\n"
     ]
    }
   ],
   "source": [
    "for w in tokens('the rare and neverbeforeseen words'):\n",
    "    print(COUNTS[w], w)"
   ]
  },
  {
   "cell_type": "code",
   "execution_count": 17,
   "metadata": {},
   "outputs": [
    {
     "data": {
      "image/png": "[encoded data removed]",
      "text/plain": [
       "<Figure size 640x480 with 1 Axes>"
      ]
     },
     "metadata": {},
     "output_type": "display_data"
    }
   ],
   "source": [
    "M = COUNTS['the']\n",
    "plt.yscale('log');\n",
    "plt.xscale('log');\n",
    "plt.title('Частота наиболее часто встречающегося слова и линия 1/n')\n",
    "plt.plot([c for (w, c) in COUNTS.most_common()])\n",
    "plt.plot([M/i for i in range(1, len(COUNTS))]);"
   ]
  },
  {
   "cell_type": "code",
   "execution_count": 18,
   "metadata": {},
   "outputs": [],
   "source": [
    "def correct(word):\n",
    "    candidates = (known(edits0(word)) or\n",
    "                  known(edits1(word)) or\n",
    "                  known(edits2(word)) or\n",
    "                  [word])\n",
    "    return max(candidates, key=COUNTS.get)\n",
    "\n",
    "def known(words):\n",
    "    return {w for w in words if w in COUNTS}\n",
    "\n",
    "def edits0(word):\n",
    "    return {word}\n",
    "\n",
    "def edits2(word):\n",
    "    return {e2 for e1 in edits1(word) for e2 in edits1(e1)}\n",
    "\n",
    "def edits1(word):\n",
    "    pairs = splits(word)\n",
    "    deletes = [a+b[1:] for (a, b) in pairs if b]\n",
    "    transposes = [a+b[1]+b[0]+b[2:] for (a, b) in pairs if len(b) > 1]\n",
    "    replaces = [a+c+b[1:] for (a, b) in pairs for c in ascii_lowercase if b]\n",
    "    inserts = [a+c+b for (a, b) in pairs for c in ascii_lowercase]\n",
    "    return set(deletes + transposes + replaces + inserts)\n",
    "\n",
    "def splits(word):\n",
    "    return [(word[:i], word[i:]) for i in range(len(word)+1)]"
   ]
  },
  {
   "cell_type": "code",
   "execution_count": 19,
   "metadata": {},
   "outputs": [
    {
     "data": {
      "text/plain": [
       "[('', 'word'), ('w', 'ord'), ('wo', 'rd'), ('wor', 'd'), ('word', '')]"
      ]
     },
     "execution_count": 19,
     "metadata": {},
     "output_type": "execute_result"
    }
   ],
   "source": [
    "splits('word')"
   ]
  },
  {
   "cell_type": "code",
   "execution_count": 20,
   "metadata": {},
   "outputs": [
    {
     "name": "stdout",
     "output_type": "stream",
     "text": [
      "{'word'}\n"
     ]
    }
   ],
   "source": [
    "print(edits0('word'))"
   ]
  },
  {
   "cell_type": "code",
   "execution_count": 21,
   "metadata": {},
   "outputs": [
    {
     "name": "stdout",
     "output_type": "stream",
     "text": [
      "{'wod', 'worq', 'wore', 'woird', 'wnrd', 'wcrd', 'wuord', 'wozrd', 'worrd', 'wourd', 'wordm', 'wowrd', 'wordw', 'wobrd', 'wordz', 'wormd', 'wocd', 'womd', 'weord', 'wkrd', 'wocrd', 'worb', 'xord', 'wojd', 'wowd', 'wors', 'cword', 'wodrd', 'wordp', 'wordh', 'wjord', 'eword', 'xword', 'rword', 'whrd', 'wotd', 'worg', 'worde', 'worh', 'worp', 'wordo', 'wordu', 'worw', 'mword', 'worzd', 'wxord', 'werd', 'worl', 'tord', 'worv', 'wford', 'wokrd', 'woyrd', 'owrd', 'wrrd', 'gord', 'wtrd', 'qword', 'waord', 'wonrd', 'wornd', 'worpd', 'words', 'wzrd', 'wordt', 'wori', 'wordl', 'wohd', 'wordj', 'fword', 'sword', 'woprd', 'iord', 'workd', 'worhd', 'woid', 'woqd', 'vord', 'wsrd', 'wvord', 'pord', 'wovrd', 'wodr', 'wond', 'wosd', 'wbord', 'tword', 'work', 'wolrd', 'pword', 'vword', 'kord', 'worod', 'wobd', 'worn', 'wwrd', 'world', 'wqrd', 'wfrd', 'woxd', 'wora', 'uord', 'wortd', 'wmrd', 'worj', 'oord', 'wtord', 'woord', 'jord', 'wprd', 'wopd', 'yword', 'worxd', 'hord', 'wohrd', 'nord', 'worgd', 'worwd', 'wold', 'dord', 'mord', 'woad', 'yord', 'nword', 'wordi', 'wjrd', 'ord', 'wofrd', 'woyd', 'wodd', 'bord', 'worda', 'sord', 'wyord', 'wcord', 'wogd', 'cord', 'wofd', 'zord', 'wogrd', 'wood', 'woxrd', 'aword', 'worx', 'wqord', 'wordc', 'wlord', 'oword', 'rord', 'uword', 'woerd', 'wxrd', 'worf', 'wgrd', 'whord', 'wrord', 'wordk', 'worc', 'wsord', 'wword', 'dword', 'wordr', 'wurd', 'wyrd', 'wordg', 'wordq', 'worm', 'worvd', 'wbrd', 'wrod', 'wovd', 'wird', 'woed', 'woro', 'wmord', 'wiord', 'wotrd', 'wordb', 'wlrd', 'hword', 'jword', 'wordf', 'word', 'wordv', 'wor', 'eord', 'wordn', 'wosrd', 'worbd', 'wory', 'worz', 'wkord', 'worqd', 'qord', 'woru', 'gword', 'worjd', 'woryd', 'wdord', 'wored', 'worsd', 'worfd', 'wozd', 'worud', 'wdrd', 'wojrd', 'wordy', 'woud', 'wgord', 'wpord', 'wokd', 'woqrd', 'kword', 'wnord', 'wzord', 'worad', 'ward', 'worr', 'iword', 'wort', 'woard', 'zword', 'worid', 'lord', 'wordd', 'wrd', 'womrd', 'ford', 'aord', 'lword', 'worcd', 'wvrd', 'bword', 'wordx'}\n"
     ]
    }
   ],
   "source": [
    "print(edits1('word'))"
   ]
  },
  {
   "cell_type": "code",
   "execution_count": 22,
   "metadata": {},
   "outputs": [
    {
     "data": {
      "text/plain": [
       "234"
      ]
     },
     "execution_count": 22,
     "metadata": {},
     "output_type": "execute_result"
    }
   ],
   "source": [
    "len(edits1('word'))"
   ]
  },
  {
   "cell_type": "code",
   "execution_count": 23,
   "metadata": {},
   "outputs": [
    {
     "data": {
      "text/plain": [
       "24254"
      ]
     },
     "execution_count": 23,
     "metadata": {},
     "output_type": "execute_result"
    }
   ],
   "source": [
    "len(edits2('word'))"
   ]
  },
  {
   "cell_type": "code",
   "execution_count": 24,
   "metadata": {},
   "outputs": [],
   "source": [
    "str_norm = 'The storm covers the sky with mist, twisting the snow whirlwinds.'"
   ]
  },
  {
   "cell_type": "code",
   "execution_count": 35,
   "metadata": {},
   "outputs": [],
   "source": [
    "str_error = 'Th strom coveerse tha skay wiht meest, twisteeng te sno wirlwinds.'"
   ]
  },
  {
   "cell_type": "code",
   "execution_count": 36,
   "metadata": {},
   "outputs": [
    {
     "data": {
      "text/plain": [
       "['th',\n",
       " 'strom',\n",
       " 'coveerse',\n",
       " 'tha',\n",
       " 'skay',\n",
       " 'wiht',\n",
       " 'meest',\n",
       " 'twisteeng',\n",
       " 'te',\n",
       " 'sno',\n",
       " 'wirlwinds']"
      ]
     },
     "execution_count": 36,
     "metadata": {},
     "output_type": "execute_result"
    }
   ],
   "source": [
    "tokens(str_error)"
   ]
  },
  {
   "cell_type": "code",
   "execution_count": 37,
   "metadata": {},
   "outputs": [
    {
     "data": {
      "text/plain": [
       "['th',\n",
       " 'storm',\n",
       " 'covers',\n",
       " 'the',\n",
       " 'say',\n",
       " 'with',\n",
       " 'meet',\n",
       " 'twisting',\n",
       " 'te',\n",
       " 'so',\n",
       " 'whirlwind']"
      ]
     },
     "execution_count": 37,
     "metadata": {},
     "output_type": "execute_result"
    }
   ],
   "source": [
    "list(map(correct, tokens(str_error)))"
   ]
  },
  {
   "cell_type": "code",
   "execution_count": 28,
   "metadata": {},
   "outputs": [
    {
     "data": {
      "text/plain": [
       "['spelling',\n",
       " 'errors',\n",
       " 'in',\n",
       " 'something',\n",
       " 'whatever',\n",
       " 'unusual',\n",
       " 'mistakes',\n",
       " 'everywhere']"
      ]
     },
     "execution_count": 28,
     "metadata": {},
     "output_type": "execute_result"
    }
   ],
   "source": [
    "list(map(correct, tokens('Speling errurs in simethink. Whutever; unusuel misteakes everyware?')))"
   ]
  },
  {
   "cell_type": "code",
   "execution_count": 29,
   "metadata": {},
   "outputs": [],
   "source": [
    "def correct_text(text):\n",
    "    return re.sub('[a-zA-Z]+', correct_match, text)\n",
    "\n",
    "def correct_match(match):\n",
    "    word = match.group()\n",
    "    return case_of(word)(correct(word.lower()))\n",
    "\n",
    "def case_of(text):\n",
    "    return (str.upper if text.isupper() else\n",
    "            str.lower if text.islower() else\n",
    "            str.title if text.istitle() else\n",
    "            str)"
   ]
  },
  {
   "cell_type": "code",
   "execution_count": 30,
   "metadata": {},
   "outputs": [
    {
     "data": {
      "text/plain": [
       "[<method 'upper' of 'str' objects>,\n",
       " <method 'lower' of 'str' objects>,\n",
       " <method 'title' of 'str' objects>,\n",
       " str]"
      ]
     },
     "execution_count": 30,
     "metadata": {},
     "output_type": "execute_result"
    }
   ],
   "source": [
    "list(map(case_of, ['UPPER', 'lower', 'Title', 'CamelCase']))"
   ]
  },
  {
   "cell_type": "code",
   "execution_count": 38,
   "metadata": {},
   "outputs": [
    {
     "data": {
      "text/plain": [
       "'Th storm covers the say with meet, twisting te so whirlwind.'"
      ]
     },
     "execution_count": 38,
     "metadata": {},
     "output_type": "execute_result"
    }
   ],
   "source": [
    "correct_text(str_error)"
   ]
  },
  {
   "cell_type": "code",
   "execution_count": null,
   "metadata": {},
   "outputs": [],
   "source": []
  }
 ],
 "metadata": {
  "kernelspec": {
   "display_name": "venv",
   "language": "python",
   "name": "python3"
  },
  "language_info": {
   "codemirror_mode": {
    "name": "ipython",
    "version": 3
   },
   "file_extension": ".py",
   "mimetype": "text/x-python",
   "name": "python",
   "nbconvert_exporter": "python",
   "pygments_lexer": "ipython3",
   "version": "3.10.6"
  },
  "orig_nbformat": 4
 },
 "nbformat": 4,
 "nbformat_minor": 2
}
