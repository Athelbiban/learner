{
 "cells": [
  {
   "cell_type": "code",
   "execution_count": 43,
   "metadata": {},
   "outputs": [],
   "source": [
    "import imaplib\n",
    "import email\n",
    "from email.header import decode_header\n",
    "import base64\n",
    "import re\n",
    "from passwd.mailru import MAIL_PASS, USERNAME"
   ]
  },
  {
   "cell_type": "code",
   "execution_count": 44,
   "metadata": {},
   "outputs": [],
   "source": [
    "mail_pass = MAIL_PASS\n",
    "username = USERNAME\n",
    "imap_server = 'imap.mail.ru'\n",
    "imap = imaplib.IMAP4_SSL(imap_server)"
   ]
  },
  {
   "cell_type": "code",
   "execution_count": 45,
   "metadata": {},
   "outputs": [
    {
     "data": {
      "text/plain": [
       "('OK', [b'Authentication successful'])"
      ]
     },
     "execution_count": 45,
     "metadata": {},
     "output_type": "execute_result"
    }
   ],
   "source": [
    "imap.login(username, mail_pass)"
   ]
  },
  {
   "cell_type": "code",
   "execution_count": 46,
   "metadata": {},
   "outputs": [
    {
     "data": {
      "text/plain": [
       "('OK', [b'918'])"
      ]
     },
     "execution_count": 46,
     "metadata": {},
     "output_type": "execute_result"
    }
   ],
   "source": [
    "imap.select('INBOX')"
   ]
  },
  {
   "cell_type": "code",
   "execution_count": null,
   "metadata": {},
   "outputs": [],
   "source": []
  },
  {
   "cell_type": "code",
   "execution_count": 35,
   "metadata": {},
   "outputs": [
    {
     "name": "stdout",
     "output_type": "stream",
     "text": [
      "918\n"
     ]
    }
   ],
   "source": [
    "res, data = imap.search(None, 'ALL')\n",
    "id_list = data[0].split()\n",
    "n = 0\n",
    "for next_mail_id in id_list:\n",
    "    # if n >= 10:\n",
    "        # break\n",
    "    res, data = imap.fetch(next_mail_id, '(RFC822)')\n",
    "    msg = email.message_from_bytes(data[0][1])\n",
    "    if msg:\n",
    "        n += 1\n",
    "    # reg = re.search(r'<.+@.+\\.\\w+>'str(msg['From')))\n",
    "    # if reg:\n",
    "        # if reg.group() == '<broker_rep@sberbank.ru>':\n",
    "            # print('yes')\n",
    "            # n += 1\n",
    "print(n)"
   ]
  },
  {
   "cell_type": "code",
   "execution_count": null,
   "metadata": {},
   "outputs": [],
   "source": []
  }
 ],
 "metadata": {
  "kernelspec": {
   "display_name": ".venv",
   "language": "python",
   "name": "python3"
  },
  "language_info": {
   "codemirror_mode": {
    "name": "ipython",
    "version": 3
   },
   "file_extension": ".py",
   "mimetype": "text/x-python",
   "name": "python",
   "nbconvert_exporter": "python",
   "pygments_lexer": "ipython3",
   "version": "3.10.6"
  },
  "orig_nbformat": 4
 },
 "nbformat": 4,
 "nbformat_minor": 2
}
