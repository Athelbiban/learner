{
 "cells": [
  {
   "cell_type": "code",
   "execution_count": 6,
   "metadata": {},
   "outputs": [],
   "source": [
    "import imaplib\n",
    "import email\n",
    "from email.header import decode_header\n",
    "import base64\n",
    "import re\n",
    "import shlex\n",
    "import ssl\n",
    "import sys\n",
    "sys.path.append('/home/stas/PycharmProjects/learner/')\n",
    "from passwd.mailru import MAIL_PASS, USERNAME"
   ]
  },
  {
   "cell_type": "code",
   "execution_count": 7,
   "metadata": {},
   "outputs": [],
   "source": [
    "mail_pass = MAIL_PASS\n",
    "username = USERNAME\n",
    "imap_server = 'imap.mail.ru'\n",
    "imap = imaplib.IMAP4_SSL(imap_server)"
   ]
  },
  {
   "cell_type": "code",
   "execution_count": 8,
   "metadata": {},
   "outputs": [
    {
     "data": {
      "text/plain": [
       "('OK', [b'Authentication successful'])"
      ]
     },
     "execution_count": 8,
     "metadata": {},
     "output_type": "execute_result"
    }
   ],
   "source": [
    "imap.login(username, mail_pass)"
   ]
  },
  {
   "cell_type": "code",
   "execution_count": 9,
   "metadata": {},
   "outputs": [
    {
     "data": {
      "text/plain": [
       "('OK',\n",
       " [b'(\\\\Inbox) \"/\" \"INBOX\"',\n",
       "  b'() \"/\" \"&BBoEMgQwBEAEQgQ,BDsEMARCBDA-\"',\n",
       "  b'() \"/\" \"&BBwEMAQ8BDA-\"',\n",
       "  b'() \"/\" \"&BB8EPgRHBEIEMA- &BCAEPgRBBEEEOAQ4-\"',\n",
       "  b'() \"/\" \"&BCAEMAQxBD4EQgQw-\"',\n",
       "  b'() \"/\" \"&BCIEPgRABDMEPgQyBEsENQ- &BD8EOwQ+BEkEMAQ0BDoEOA-\"',\n",
       "  b'() \"/\" \"&BBQEPgQ6BEMEPAQ1BD0EQgRL- &BBoEPgQ9BEEEQwQ7BEwEQgQwBD0EQg-+\"',\n",
       "  b'() \"/\" \"Junk\"',\n",
       "  b'() \"/\" \"&BBwEPgQxBDgEOwRMBD0ESwQ5- &BBEEMAQ9BDo-\"',\n",
       "  b'() \"/\" \"&BCIEMAQ9BDoEOA-\"',\n",
       "  b'() \"/\" \"&BB4EHgQe- \\\\\"&BB0EHwQa- \\\\\"&BBoEPgQ9BEIEMAQ6BEI-\\\\\"\"',\n",
       "  b'() \"/\" \"&BCEEQgQwBD0EOARBBDsEMAQy- &BBIEPgRBBEIEQAQ+BDI-\"',\n",
       "  b'() \"/\" \"&BBAEHg- \\\\\"&BB0EHwQf- \\\\\"&BCEEOAQzBD0EMAQ7-\\\\\"\"',\n",
       "  b'() \"/\" \"&BB4EHgQe- \\\\\"&BBMEPgRABD4ENA- 77\\\\\"\"',\n",
       "  b'() \"/\" \"&BB4EHgQe- \\\\\"&BCUEMAQ5BCIETQQ6-\\\\\"\"',\n",
       "  b'() \"/\" \"&BBMEPgRBBEMEQQQ7BEMEMwQ4-\"',\n",
       "  b'() \"/\" \"&BCEEMQQ1BEAEEQQwBD0EOg- &BCAEJA-\"',\n",
       "  b'() \"/\" \"&BCEEMQQ1BEAEMQQwBD0EOg- &BBEEQAQ+BDoENQRA-\"',\n",
       "  b'() \"/\" \"&BBIEIgQR- &BBEEQAQ+BDoENQRA-\"',\n",
       "  b'() \"/\" \"&BCQEHQQh-\"',\n",
       "  b'() \"/\" \"&BBAEOwRMBEQEMA- &BBEEMAQ9BDo-\"',\n",
       "  b'() \"/\" \"&BBAEOwRMBEQEMA- &BBEEQAQ+BDoENQRA-\"',\n",
       "  b'() \"/\" \"&BBoEGAQi- &BCQEOAQ9BDAEPQRB- &BBEEQAQ+BDoENQRA-\"',\n",
       "  b'() \"/\" \"&BBIEIgQR-\"',\n",
       "  b'(\\\\Spam) \"/\" \"&BCEEPwQwBDw-\"',\n",
       "  b'(\\\\Sent) \"/\" \"&BB4EQgQ,BEAEMAQyBDsENQQ9BD0ESwQ1-\"',\n",
       "  b'(\\\\Drafts) \"/\" \"&BCcENQRABD0EPgQyBDgEOgQ4-\"',\n",
       "  b'(\\\\Trash) \"/\" \"&BBoEPgRABDcEOAQ9BDA-\"',\n",
       "  b'() \"/\" \"&BBAEQARFBDgEMg-\"',\n",
       "  b'() \"/\" \"INBOX/&BCEEOgQ4BDQEOgQ4-\"',\n",
       "  b'() \"/\" \"INBOX/Social\"',\n",
       "  b'() \"/\" \"INBOX/Newsletters\"',\n",
       "  b'() \"/\" \"INBOX/Public services\"',\n",
       "  b'() \"/\" \"INBOX/Receipts\"'])"
      ]
     },
     "execution_count": 9,
     "metadata": {},
     "output_type": "execute_result"
    }
   ],
   "source": [
    "imap.list()"
   ]
  },
  {
   "cell_type": "code",
   "execution_count": 15,
   "metadata": {},
   "outputs": [
    {
     "name": "stdout",
     "output_type": "stream",
     "text": [
      "INBOX\n",
      "&BBoEMgQwBEAEQgQ,BDsEMARCBDA-\n",
      "&BBwEMAQ8BDA-\n",
      "&BB8EPgRHBEIEMA- &BCAEPgRBBEEEOAQ4-\n",
      "&BCAEMAQxBD4EQgQw-\n",
      "&BCIEPgRABDMEPgQyBEsENQ- &BD8EOwQ+BEkEMAQ0BDoEOA-\n",
      "&BBQEPgQ6BEMEPAQ1BD0EQgRL- &BBoEPgQ9BEEEQwQ7BEwEQgQwBD0EQg-+\n",
      "Junk\n",
      "&BBwEPgQxBDgEOwRMBD0ESwQ5- &BBEEMAQ9BDo-\n",
      "&BCIEMAQ9BDoEOA-\n",
      "&BB4EHgQe- \"&BB0EHwQa- \"&BBoEPgQ9BEIEMAQ6BEI-\"\n",
      "&BCEEQgQwBD0EOARBBDsEMAQy- &BBIEPgRBBEIEQAQ+BDI-\n",
      "&BBAEHg- \"&BB0EHwQf- \"&BCEEOAQzBD0EMAQ7-\"\n",
      "&BB4EHgQe- \"&BBMEPgRABD4ENA- 77\"\n",
      "&BB4EHgQe- \"&BCUEMAQ5BCIETQQ6-\"\n",
      "&BBMEPgRBBEMEQQQ7BEMEMwQ4-\n",
      "&BCEEMQQ1BEAEEQQwBD0EOg- &BCAEJA-\n",
      "SberBroker\n",
      "&BBIEIgQR- &BBEEQAQ+BDoENQRA-\n",
      "&BCQEHQQh-\n",
      "&BBAEOwRMBEQEMA- &BBEEMAQ9BDo-\n",
      "&BBAEOwRMBEQEMA- &BBEEQAQ+BDoENQRA-\n",
      "&BBoEGAQi- &BCQEOAQ9BDAEPQRB- &BBEEQAQ+BDoENQRA-\n",
      "&BBIEIgQR-\n",
      "&BCEEPwQwBDw-\n",
      "&BB4EQgQ,BEAEMAQyBDsENQQ9BD0ESwQ1-\n",
      "&BCcENQRABD0EPgQyBDgEOgQ4-\n",
      "&BBoEPgRABDcEOAQ9BDA-\n",
      "&BBAEQARFBDgEMg-\n",
      "INBOX/&BCEEOgQ4BDQEOgQ4-\n",
      "INBOX/Social\n",
      "INBOX/Newsletters\n",
      "INBOX/Public services\n",
      "INBOX/Receipts\n"
     ]
    }
   ],
   "source": [
    "with imaplib.IMAP4_SSL(imap_server, ssl_context=ssl.create_default_context()) as mail:\n",
    "    mail.login(username, mail_pass)\n",
    "    for folder in mail.list()[1]:\n",
    "        print(shlex.split(folder.decode())[-1])"
   ]
  },
  {
   "cell_type": "code",
   "execution_count": 16,
   "metadata": {},
   "outputs": [
    {
     "data": {
      "text/plain": [
       "('OK', [b'121'])"
      ]
     },
     "execution_count": 16,
     "metadata": {},
     "output_type": "execute_result"
    }
   ],
   "source": [
    "imap.select('SberBroker')"
   ]
  },
  {
   "cell_type": "code",
   "execution_count": 29,
   "metadata": {},
   "outputs": [
    {
     "name": "stdout",
     "output_type": "stream",
     "text": [
      "105\n",
      "105\n"
     ]
    }
   ],
   "source": [
    "res, data = imap.search(None, 'ALL')\n",
    "id_list = data[0].split()\n",
    "n = 0\n",
    "a = 0\n",
    "for next_mail_id in id_list:\n",
    "    # if n >= 10:\n",
    "        # break\n",
    "    res, data = imap.fetch(next_mail_id, '(RFC822)')\n",
    "    msg = email.message_from_bytes(data[0][1])\n",
    "    if re.search(r'S03DNRY', str(msg)):\n",
    "        n += 1\n",
    "    # if msg.is_multipart():\n",
    "    # if msg:\n",
    "        # reg = re.search(r'<.+@.+\\.\\w+>', str(msg['From']))\n",
    "        # if reg:\n",
    "            # if reg.group() == '<broker_rep@sberbank.ru>':\n",
    "                # print('yes')\n",
    "                # n += 1\n",
    "print(n)"
   ]
  },
  {
   "cell_type": "code",
   "execution_count": null,
   "metadata": {},
   "outputs": [],
   "source": []
  }
 ],
 "metadata": {
  "kernelspec": {
   "display_name": ".venv",
   "language": "python",
   "name": "python3"
  },
  "language_info": {
   "codemirror_mode": {
    "name": "ipython",
    "version": 3
   },
   "file_extension": ".py",
   "mimetype": "text/x-python",
   "name": "python",
   "nbconvert_exporter": "python",
   "pygments_lexer": "ipython3",
   "version": "3.10.6"
  },
  "orig_nbformat": 4
 },
 "nbformat": 4,
 "nbformat_minor": 2
}
