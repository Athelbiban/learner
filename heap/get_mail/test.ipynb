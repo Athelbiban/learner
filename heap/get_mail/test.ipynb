{
 "cells": [
  {
   "cell_type": "code",
   "execution_count": 42,
   "metadata": {},
   "outputs": [],
   "source": [
    "import imaplib\n",
    "import email\n",
    "from email.header import decode_header\n",
    "import base64\n",
    "from bs4 import BeautifulSoup\n",
    "import re\n",
    "from passwd.mailru import MAIL_PASS, USERNAME"
   ]
  },
  {
   "cell_type": "code",
   "execution_count": 43,
   "metadata": {},
   "outputs": [],
   "source": [
    "mail_pass = MAIL_PASS\n",
    "username = USERNAME\n",
    "imap_server = 'imap.mail.ru'\n",
    "imap = imaplib.IMAP4_SSL(imap_server)"
   ]
  },
  {
   "cell_type": "code",
   "execution_count": 44,
   "metadata": {},
   "outputs": [
    {
     "data": {
      "text/plain": [
       "('OK', [b'Authentication successful'])"
      ]
     },
     "execution_count": 44,
     "metadata": {},
     "output_type": "execute_result"
    }
   ],
   "source": [
    "imap.login(username, mail_pass)"
   ]
  },
  {
   "cell_type": "code",
   "execution_count": 21,
   "metadata": {},
   "outputs": [
    {
     "data": {
      "text/plain": [
       "('OK',\n",
       " [b'(\\\\Inbox) \"/\" \"INBOX\"',\n",
       "  b'() \"/\" \"&BBoEMgQwBEAEQgQ,BDsEMARCBDA-\"',\n",
       "  b'() \"/\" \"&BBwEMAQ8BDA-\"',\n",
       "  b'() \"/\" \"&BB8EPgRHBEIEMA- &BCAEPgRBBEEEOAQ4-\"',\n",
       "  b'() \"/\" \"&BCAEMAQxBD4EQgQw-\"',\n",
       "  b'() \"/\" \"&BCIEPgRABDMEPgQyBEsENQ- &BD8EOwQ+BEkEMAQ0BDoEOA-\"',\n",
       "  b'() \"/\" \"&BBQEPgQ6BEMEPAQ1BD0EQgRL- &BBoEPgQ9BEEEQwQ7BEwEQgQwBD0EQg-+\"',\n",
       "  b'() \"/\" \"Junk\"',\n",
       "  b'() \"/\" \"&BBwEPgQxBDgEOwRMBD0ESwQ5- &BBEEMAQ9BDo-\"',\n",
       "  b'() \"/\" \"&BCIEMAQ9BDoEOA-\"',\n",
       "  b'() \"/\" \"&BB4EHgQe- \\\\\"&BB0EHwQa- \\\\\"&BBoEPgQ9BEIEMAQ6BEI-\\\\\"\"',\n",
       "  b'() \"/\" \"&BCEEQgQwBD0EOARBBDsEMAQy- &BBIEPgRBBEIEQAQ+BDI-\"',\n",
       "  b'() \"/\" \"&BBAEHg- \\\\\"&BB0EHwQf- \\\\\"&BCEEOAQzBD0EMAQ7-\\\\\"\"',\n",
       "  b'() \"/\" \"&BB4EHgQe- \\\\\"&BBMEPgRABD4ENA- 77\\\\\"\"',\n",
       "  b'() \"/\" \"&BB4EHgQe- \\\\\"&BCUEMAQ5BCIETQQ6-\\\\\"\"',\n",
       "  b'() \"/\" \"&BBMEPgRBBEMEQQQ7BEMEMwQ4-\"',\n",
       "  b'() \"/\" \"&BCEEMQQ1BEAEEQQwBD0EOg- &BCAEJA-\"',\n",
       "  b'() \"/\" \"&BCEEMQQ1BEAEMQQwBD0EOg- &BBEEQAQ+BDoENQRA-\"',\n",
       "  b'() \"/\" \"&BBIEIgQR- &BBEEQAQ+BDoENQRA-\"',\n",
       "  b'() \"/\" \"&BCQEHQQh-\"',\n",
       "  b'() \"/\" \"&BBAEOwRMBEQEMA- &BBEEMAQ9BDo-\"',\n",
       "  b'() \"/\" \"&BBAEOwRMBEQEMA- &BBEEQAQ+BDoENQRA-\"',\n",
       "  b'() \"/\" \"&BBoEGAQi- &BCQEOAQ9BDAEPQRB- &BBEEQAQ+BDoENQRA-\"',\n",
       "  b'() \"/\" \"&BBIEIgQR-\"',\n",
       "  b'(\\\\Spam) \"/\" \"&BCEEPwQwBDw-\"',\n",
       "  b'(\\\\Sent) \"/\" \"&BB4EQgQ,BEAEMAQyBDsENQQ9BD0ESwQ1-\"',\n",
       "  b'(\\\\Drafts) \"/\" \"&BCcENQRABD0EPgQyBDgEOgQ4-\"',\n",
       "  b'(\\\\Trash) \"/\" \"&BBoEPgRABDcEOAQ9BDA-\"',\n",
       "  b'() \"/\" \"&BBAEQARFBDgEMg-\"',\n",
       "  b'() \"/\" \"INBOX/&BCEEOgQ4BDQEOgQ4-\"',\n",
       "  b'() \"/\" \"INBOX/Social\"',\n",
       "  b'() \"/\" \"INBOX/Newsletters\"',\n",
       "  b'() \"/\" \"INBOX/Public services\"',\n",
       "  b'() \"/\" \"INBOX/Receipts\"'])"
      ]
     },
     "execution_count": 21,
     "metadata": {},
     "output_type": "execute_result"
    }
   ],
   "source": [
    "imap.list()"
   ]
  },
  {
   "cell_type": "code",
   "execution_count": 22,
   "metadata": {},
   "outputs": [
    {
     "data": {
      "text/plain": [
       "('OK', [b'918'])"
      ]
     },
     "execution_count": 22,
     "metadata": {},
     "output_type": "execute_result"
    }
   ],
   "source": [
    "imap.select('INBOX')"
   ]
  },
  {
   "cell_type": "code",
   "execution_count": 23,
   "metadata": {},
   "outputs": [
    {
     "data": {
      "text/plain": [
       "('OK',\n",
       " [b'1 2 3 4 5 6 7 8 9 10 11 12 13 14 15 16 17 18 19 20 21 22 23 24 25 26 27 28 29 30 31 32 33 34 35 36 37 38 39 40 41 42 43 44 45 46 47 48 49 50 51 52 53 54 55 56 57 58 59 60 61 62 63 64 65 66 67 68 69 70 71 72 73 74 75 76 77 78 79 80 81 82 83 84 85 86 87 88 89 90 91 92 93 94 95 96 97 98 99 100 101 102 103 104 105 106 107 108 109 110 111 112 113 114 115 116 117 118 119 120 121 122 123 124 125 126 127 128 129 130 131 132 133 134 135 136 137 138 139 140 141 142 143 144 145 146 147 148 149 150 151 152 153 154 155 156 157 158 159 160 161 162 163 164 165 166 167 168 169 170 171 172 173 174 175 176 177 178 179 180 181 182 183 184 185 186 187 188 189 190 191 192 193 194 195 196 197 198 199 200 201 202 203 204 205 206 207 208 209 210 211 212 213 214 215 216 217 218 219 220 221 222 223 224 225 226 227 228 229 230 231 232 233 234 235 236 237 238 239 240 241 242 243 244 245 246 247 248 249 250 251 252 253 254 255 256 257 258 259 260 261 262 263 264 265 266 267 268 269 270 271 272 273 274 275 276 277 278 279 280 281 282 283 284 285 286 287 288 289 290 291 292 293 294 295 296 297 298 299 300 301 302 303 304 305 306 307 308 309 310 311 312 313 314 315 316 317 318 319 320 321 322 323 324 325 326 327 328 329 330 331 332 333 334 335 336 337 338 339 340 341 342 343 344 345 346 347 348 349 350 351 352 353 354 355 356 357 358 359 360 361 362 363 364 365 366 367 368 369 370 371 372 373 374 375 376 377 378 379 380 381 382 383 384 385 386 387 388 389 390 391 392 393 394 395 396 397 398 399 400 401 402 403 404 405 406 407 408 409 410 411 412 413 414 415 416 417 418 419 420 421 422 423 424 425 426 427 428 429 430 431 432 433 434 435 436 437 438 439 440 441 442 443 444 445 446 447 448 449 450 451 452 453 454 455 456 457 458 459 460 461 462 463 464 465 466 467 468 469 470 471 472 473 474 475 476 477 478 479 480 481 482 483 484 485 486 487 488 489 490 491 492 493 494 495 496 497 498 499 500 501 502 503 504 505 506 507 508 509 510 511 512 513 514 515 516 517 518 519 520 521 522 523 524 525 526 527 528 529 530 531 532 533 534 535 536 537 538 539 540 541 542 543 544 545 546 547 548 549 550 551 552 553 554 555 556 557 558 559 560 561 562 563 564 565 566 567 568 569 570 571 572 573 574 575 576 577 578 579 580 581 582 583 584 585 586 587 588 589 590 591 592 593 594 595 596 597 598 599 600 601 602 603 604 605 606 607 608 609 610 611 612 613 614 615 616 617 618 619 620 621 622 623 624 625 626 627 628 629 630 631 632 633 634 635 636 637 638 639 640 641 642 643 644 645 646 647 648 649 650 651 652 653 654 655 656 657 658 659 660 661 662 663 664 665 666 667 668 669 670 671 672 673 674 675 676 677 678 679 680 681 682 683 684 685 686 687 688 689 690 691 692 693 694 695 696 697 698 699 700 701 702 703 704 705 706 707 708 709 710 711 712 713 714 715 716 717 718 719 720 721 722 723 724 725 726 727 728 729 730 731 732 733 734 735 736 737 738 739 740 741 742 743 744 745 746 747 748 749 750 751 752 753 754 755 756 757 758 759 760 761 762 763 764 765 766 767 768 769 770 771 772 773 774 775 776 777 778 779 780 781 782 783 784 785 786 787 788 789 790 791 792 793 794 795 796 797 798 799 800 801 802 803 804 805 806 807 808 809 810 811 812 813 814 815 816 817 818 819 820 821 822 823 824 825 826 827 828 829 830 831 832 833 834 835 836 837 838 839 840 841 842 843 844 845 846 847 848 849 850 851 852 853 854 855 856 857 858 859 860 861 862 863 864 865 866 867 868 869 870 871 872 873 874 875 876 877 878 879 880 881 882 883 884 885 886 887 888 889 890 891 892 893 894 895 896 897 898 899 900 901 902 903 904 905 906 907 908 909 910 911 912 913 914 915 916 917 918'])"
      ]
     },
     "execution_count": 23,
     "metadata": {},
     "output_type": "execute_result"
    }
   ],
   "source": [
    "imap.search(None, 'ALL')"
   ]
  },
  {
   "cell_type": "code",
   "execution_count": 24,
   "metadata": {},
   "outputs": [],
   "source": [
    "result, data = imap.search(None, 'ALL')"
   ]
  },
  {
   "cell_type": "code",
   "execution_count": 25,
   "metadata": {},
   "outputs": [
    {
     "data": {
      "text/plain": [
       "[b'1 2 3 4 5 6 7 8 9 10 11 12 13 14 15 16 17 18 19 20 21 22 23 24 25 26 27 28 29 30 31 32 33 34 35 36 37 38 39 40 41 42 43 44 45 46 47 48 49 50 51 52 53 54 55 56 57 58 59 60 61 62 63 64 65 66 67 68 69 70 71 72 73 74 75 76 77 78 79 80 81 82 83 84 85 86 87 88 89 90 91 92 93 94 95 96 97 98 99 100 101 102 103 104 105 106 107 108 109 110 111 112 113 114 115 116 117 118 119 120 121 122 123 124 125 126 127 128 129 130 131 132 133 134 135 136 137 138 139 140 141 142 143 144 145 146 147 148 149 150 151 152 153 154 155 156 157 158 159 160 161 162 163 164 165 166 167 168 169 170 171 172 173 174 175 176 177 178 179 180 181 182 183 184 185 186 187 188 189 190 191 192 193 194 195 196 197 198 199 200 201 202 203 204 205 206 207 208 209 210 211 212 213 214 215 216 217 218 219 220 221 222 223 224 225 226 227 228 229 230 231 232 233 234 235 236 237 238 239 240 241 242 243 244 245 246 247 248 249 250 251 252 253 254 255 256 257 258 259 260 261 262 263 264 265 266 267 268 269 270 271 272 273 274 275 276 277 278 279 280 281 282 283 284 285 286 287 288 289 290 291 292 293 294 295 296 297 298 299 300 301 302 303 304 305 306 307 308 309 310 311 312 313 314 315 316 317 318 319 320 321 322 323 324 325 326 327 328 329 330 331 332 333 334 335 336 337 338 339 340 341 342 343 344 345 346 347 348 349 350 351 352 353 354 355 356 357 358 359 360 361 362 363 364 365 366 367 368 369 370 371 372 373 374 375 376 377 378 379 380 381 382 383 384 385 386 387 388 389 390 391 392 393 394 395 396 397 398 399 400 401 402 403 404 405 406 407 408 409 410 411 412 413 414 415 416 417 418 419 420 421 422 423 424 425 426 427 428 429 430 431 432 433 434 435 436 437 438 439 440 441 442 443 444 445 446 447 448 449 450 451 452 453 454 455 456 457 458 459 460 461 462 463 464 465 466 467 468 469 470 471 472 473 474 475 476 477 478 479 480 481 482 483 484 485 486 487 488 489 490 491 492 493 494 495 496 497 498 499 500 501 502 503 504 505 506 507 508 509 510 511 512 513 514 515 516 517 518 519 520 521 522 523 524 525 526 527 528 529 530 531 532 533 534 535 536 537 538 539 540 541 542 543 544 545 546 547 548 549 550 551 552 553 554 555 556 557 558 559 560 561 562 563 564 565 566 567 568 569 570 571 572 573 574 575 576 577 578 579 580 581 582 583 584 585 586 587 588 589 590 591 592 593 594 595 596 597 598 599 600 601 602 603 604 605 606 607 608 609 610 611 612 613 614 615 616 617 618 619 620 621 622 623 624 625 626 627 628 629 630 631 632 633 634 635 636 637 638 639 640 641 642 643 644 645 646 647 648 649 650 651 652 653 654 655 656 657 658 659 660 661 662 663 664 665 666 667 668 669 670 671 672 673 674 675 676 677 678 679 680 681 682 683 684 685 686 687 688 689 690 691 692 693 694 695 696 697 698 699 700 701 702 703 704 705 706 707 708 709 710 711 712 713 714 715 716 717 718 719 720 721 722 723 724 725 726 727 728 729 730 731 732 733 734 735 736 737 738 739 740 741 742 743 744 745 746 747 748 749 750 751 752 753 754 755 756 757 758 759 760 761 762 763 764 765 766 767 768 769 770 771 772 773 774 775 776 777 778 779 780 781 782 783 784 785 786 787 788 789 790 791 792 793 794 795 796 797 798 799 800 801 802 803 804 805 806 807 808 809 810 811 812 813 814 815 816 817 818 819 820 821 822 823 824 825 826 827 828 829 830 831 832 833 834 835 836 837 838 839 840 841 842 843 844 845 846 847 848 849 850 851 852 853 854 855 856 857 858 859 860 861 862 863 864 865 866 867 868 869 870 871 872 873 874 875 876 877 878 879 880 881 882 883 884 885 886 887 888 889 890 891 892 893 894 895 896 897 898 899 900 901 902 903 904 905 906 907 908 909 910 911 912 913 914 915 916 917 918']"
      ]
     },
     "execution_count": 25,
     "metadata": {},
     "output_type": "execute_result"
    }
   ],
   "source": [
    "data"
   ]
  },
  {
   "cell_type": "code",
   "execution_count": 26,
   "metadata": {},
   "outputs": [
    {
     "data": {
      "text/plain": [
       "b'1 2 3 4 5 6 7 8 9 10 11 12 13 14 15 16 17 18 19 20 21 22 23 24 25 26 27 28 29 30 31 32 33 34 35 36 37 38 39 40 41 42 43 44 45 46 47 48 49 50 51 52 53 54 55 56 57 58 59 60 61 62 63 64 65 66 67 68 69 70 71 72 73 74 75 76 77 78 79 80 81 82 83 84 85 86 87 88 89 90 91 92 93 94 95 96 97 98 99 100 101 102 103 104 105 106 107 108 109 110 111 112 113 114 115 116 117 118 119 120 121 122 123 124 125 126 127 128 129 130 131 132 133 134 135 136 137 138 139 140 141 142 143 144 145 146 147 148 149 150 151 152 153 154 155 156 157 158 159 160 161 162 163 164 165 166 167 168 169 170 171 172 173 174 175 176 177 178 179 180 181 182 183 184 185 186 187 188 189 190 191 192 193 194 195 196 197 198 199 200 201 202 203 204 205 206 207 208 209 210 211 212 213 214 215 216 217 218 219 220 221 222 223 224 225 226 227 228 229 230 231 232 233 234 235 236 237 238 239 240 241 242 243 244 245 246 247 248 249 250 251 252 253 254 255 256 257 258 259 260 261 262 263 264 265 266 267 268 269 270 271 272 273 274 275 276 277 278 279 280 281 282 283 284 285 286 287 288 289 290 291 292 293 294 295 296 297 298 299 300 301 302 303 304 305 306 307 308 309 310 311 312 313 314 315 316 317 318 319 320 321 322 323 324 325 326 327 328 329 330 331 332 333 334 335 336 337 338 339 340 341 342 343 344 345 346 347 348 349 350 351 352 353 354 355 356 357 358 359 360 361 362 363 364 365 366 367 368 369 370 371 372 373 374 375 376 377 378 379 380 381 382 383 384 385 386 387 388 389 390 391 392 393 394 395 396 397 398 399 400 401 402 403 404 405 406 407 408 409 410 411 412 413 414 415 416 417 418 419 420 421 422 423 424 425 426 427 428 429 430 431 432 433 434 435 436 437 438 439 440 441 442 443 444 445 446 447 448 449 450 451 452 453 454 455 456 457 458 459 460 461 462 463 464 465 466 467 468 469 470 471 472 473 474 475 476 477 478 479 480 481 482 483 484 485 486 487 488 489 490 491 492 493 494 495 496 497 498 499 500 501 502 503 504 505 506 507 508 509 510 511 512 513 514 515 516 517 518 519 520 521 522 523 524 525 526 527 528 529 530 531 532 533 534 535 536 537 538 539 540 541 542 543 544 545 546 547 548 549 550 551 552 553 554 555 556 557 558 559 560 561 562 563 564 565 566 567 568 569 570 571 572 573 574 575 576 577 578 579 580 581 582 583 584 585 586 587 588 589 590 591 592 593 594 595 596 597 598 599 600 601 602 603 604 605 606 607 608 609 610 611 612 613 614 615 616 617 618 619 620 621 622 623 624 625 626 627 628 629 630 631 632 633 634 635 636 637 638 639 640 641 642 643 644 645 646 647 648 649 650 651 652 653 654 655 656 657 658 659 660 661 662 663 664 665 666 667 668 669 670 671 672 673 674 675 676 677 678 679 680 681 682 683 684 685 686 687 688 689 690 691 692 693 694 695 696 697 698 699 700 701 702 703 704 705 706 707 708 709 710 711 712 713 714 715 716 717 718 719 720 721 722 723 724 725 726 727 728 729 730 731 732 733 734 735 736 737 738 739 740 741 742 743 744 745 746 747 748 749 750 751 752 753 754 755 756 757 758 759 760 761 762 763 764 765 766 767 768 769 770 771 772 773 774 775 776 777 778 779 780 781 782 783 784 785 786 787 788 789 790 791 792 793 794 795 796 797 798 799 800 801 802 803 804 805 806 807 808 809 810 811 812 813 814 815 816 817 818 819 820 821 822 823 824 825 826 827 828 829 830 831 832 833 834 835 836 837 838 839 840 841 842 843 844 845 846 847 848 849 850 851 852 853 854 855 856 857 858 859 860 861 862 863 864 865 866 867 868 869 870 871 872 873 874 875 876 877 878 879 880 881 882 883 884 885 886 887 888 889 890 891 892 893 894 895 896 897 898 899 900 901 902 903 904 905 906 907 908 909 910 911 912 913 914 915 916 917 918'"
      ]
     },
     "execution_count": 26,
     "metadata": {},
     "output_type": "execute_result"
    }
   ],
   "source": [
    "ids = data[0]\n",
    "ids"
   ]
  },
  {
   "cell_type": "code",
   "execution_count": 27,
   "metadata": {},
   "outputs": [],
   "source": [
    "id_list = ids.split()"
   ]
  },
  {
   "cell_type": "code",
   "execution_count": 28,
   "metadata": {},
   "outputs": [],
   "source": [
    "latest_email_id = id_list[-1]\n",
    "result, data = imap.fetch(latest_email_id, '(RFC822)')"
   ]
  },
  {
   "cell_type": "code",
   "execution_count": 29,
   "metadata": {},
   "outputs": [
    {
     "data": {
      "text/plain": [
       "b'918'"
      ]
     },
     "execution_count": 29,
     "metadata": {},
     "output_type": "execute_result"
    }
   ],
   "source": [
    "latest_email_id"
   ]
  },
  {
   "cell_type": "code",
   "execution_count": 30,
   "metadata": {},
   "outputs": [
    {
     "data": {
      "text/plain": [
       "[(b'918 (RFC822 {13046}',\n",
       "  b'Delivered-To: vostrov_so@bk.ru\\r\\nReturn-path: <postman5886126@mail.emlbest.com>\\r\\nAuthentication-Results: mxs.mail.ru; spf=pass (mx210.i.mail.ru: domain of mail.emlbest.com designates 87.246.187.91 as permitted sender) smtp.mailfrom=postman5886126@mail.emlbest.com smtp.helo=smtp428.emlone.com;\\r\\n\\t dkim=pass header.d=usndr.com;\\r\\n\\t dkim=pass header.d=topeml.com\\r\\nReceived-SPF: pass (mx210.i.mail.ru: domain of mail.emlbest.com designates 87.246.187.91 as permitted sender) client-ip=87.246.187.91; envelope-from=postman5886126@mail.emlbest.com; helo=smtp428.emlone.com;\\r\\nReceived: from smtp428.emlone.com ([87.246.187.91]:55236)\\r\\n\\tby mx210.i.mail.ru with esmtp (envelope-from <postman5886126@mail.emlbest.com>)\\r\\n\\tid 1qCoC8-00B6NH-7W\\r\\n\\tfor vostrov_so@bk.ru; Sat, 24 Jun 2023 00:19:52 +0300\\r\\nDKIM-Signature: v=1; a=rsa-sha256; c=relaxed/relaxed; s=jan2010; d=usndr.com;\\r\\n h=From:Sender:To:Message-Id:Subject:MIME-Version:Content-Type:List-Help:\\r\\n List-Subscribe:Date:no;\\r\\n bh=DBhRtxl3p8xnUE7pshN0Vu+PXlMTIBRCy0EjPUr8C8I=;\\r\\n b=PbaBjah76jYH5gyRdpYaFpV2TuU8Csj5ZR0uNTcWqaZ8x4N7u8yH6pyq+mZ92gcXfv9XEzCB4Gua\\r\\n   xty58qB4CGwByQIJzFgFkCLznP7JM2vu7026tQMWAHCPWSN4aUKO2tDOVQ/qcD6i2P3VMk1I2Xo6\\r\\n   rpZK5KM8ydGz/QgCrR8=\\r\\nDKIM-Signature: v=1; a=rsa-sha256; c=relaxed/relaxed; s=jul2015; d=topeml.com;\\r\\n h=From:Sender:To:Message-Id:Subject:MIME-Version:Content-Type:List-Help:\\r\\n List-Subscribe:Date;\\r\\n bh=DBhRtxl3p8xnUE7pshN0Vu+PXlMTIBRCy0EjPUr8C8I=;\\r\\n b=HvwOTerpEooCHB0jsqNFEnk7mTcD5VJYuMlDEX2GpS7T2U3SM4CLX4X4H2SJWE28wqiRPePE3f1U\\r\\n   XSQeXbHQv5wAP/bvlxJJXFoKZqwb5WsaFFI81kCnnVYC1Ccsm8QzPnPnP/F5pDg9/KLkGZdAh3hd\\r\\n   gORusNKbsSEXV6jxuLs=\\r\\nReceived: by smtp368.emlone.com id hio69s2erpki for <vostrov_so@bk.ru>; Fri, 23 Jun 2023 21:20:30 +0000 (envelope-from <postman5886126@mail.emlbest.com>)\\r\\nFrom: =?UTF-8?B?0J7QvdC70LDQudC9INCf0YDQvtC10LrRgg==?= <mail-inform@sociologist.com>\\r\\nSender: =?UTF-8?B?0J7QvdC70LDQudC9INCf0YDQvtC10LrRgg==?= <mail-inform@sociologist.com>\\r\\nTo: vostrov_so@bk.ru\\r\\nMessage-Id: <E1qCoC8-k89BwA-Nb@ucs302-ucs-15.msgpanel.com>\\r\\nSubject: =?UTF-8?B?0JLRiyDQv9GA0LjQs9C70LDRiNC10L3RiyA=?=\\r\\n =?UTF-8?B?0LIg0L3QvtCy0YvQuSDQv9GA0L7QtdC60YI=?=\\r\\nMIME-Version: 1.0\\r\\nContent-Type: multipart/mixed; boundary=\"MXFDb0M4LWs4OUJ3QS1OYg==\"\\r\\nList-Help: <https://trk.emlbest.com/ru/help/forsubscribers>\\r\\nList-Subscribe: https://trk.emlbest.com/ru/subscribe_confirm?hash=6jbirbibsiar8pd7x8urgwip7izc4ss8ouo83tyh5fa8p9bn5jekfec5tpgfk4eny554e9nhmirgmk\\r\\nX-EnvId: usproduction.cs_5886126_31475765618_af978e5e-120b-11ee-86d4-eae2a7cc65c1\\r\\nDate: Fri, 23 Jun 2023 21:20:30 +0000\\r\\nX-Mailru-Src: mxs\\r\\nX-6b629377: 1\\r\\nX-7564579A: B8F34718100C35BD\\r\\nX-77F55803: E822A06ED42C499AFCCC32447FDBB891B9EE6BF99905F35E12EB7FDDDA4D28E00BBDAAE39103F3638701F0628C4B95CBCBCD77BAE04568052F75B2FAF742DB1F22A8EFCC919B35DAD64C754CAC7C657B\\r\\nX-7FA49CB5: FF5795518A3D127A4AD6D5ED66289B5278DA827A17800CE707FD2F46D4FEEE7FC2099A533E45F2D0395957E7521B51C2CFCAF695D4D8E9FCEA1F7E6F0F101C6778DA827A17800CE77A420BBEAE18E7B3EA1F7E6F0F101C67CDEEF6D7F21E0D1D9295C2E9FA3191EE1B59CA4C82EFA658BDD36F284195E3CD24BA3D1E29A4BA8FF6B57BC7E64490618DEB871D839B73339E8FC8737B5C22498424CA1AAF98A6958941B15DA834481FCF19DD082D7633A0EF3E4896CB9E6436389733CBF5DBD5E9D5E8D9A59859A8B625DC386152A6764ACC7F00164DA146DA6F5DAA56C3B73B237318B6A418E8EAB84AF75897E43B5B30A18204E546F3947CFC9F0E14D55C87C7520BB28E76B93C0993EC92FD9297F6719449624AB7ADAF37E050C7F68D6568A7A54B52C917363A3378DA827A17800CE7EDEA5023AB3ED1454AF75897E43B5B309449624AB7ADAF37086CC22E99EF6E46\\r\\nX-C1DE0DAB: 0D63561A33F958A5A227D681FAAB9BB87ABCAA62336A280B298C2AB1F70652C05A4FF58CDAEABE2AA132EA92956906CBEC0DA21D194D9A2CC66B2B37046EC955823CB91A9FED034534781492E4B8EEADDF4906C53AD08F48C79554A2A72441328621D336A7BC284946AD531847A6065AED8438A78DFE0A9EC79554A2A72441321D95598F8B11C588794DB285CF8A07CEFC4C38C612E6C07F\\r\\nX-C8649E89: 1C3962B70DF3F0ADD4B3C1CD9B5CE977221D93EE93388A139F612A77E88288920776B5B2C279835F17BCBE6708A5A68D02015372BE9702A2927DC94AA7F6EED3ABAB0477E45EE5E206F57F9AB763AB3C0255BA9932B1D916E396CFA0AA74237A9B815B7972F6FBBE28C0B6FA0AA112DCE3296C48CEFA3E1D52EE4E5D9E54FDA44C41F94D744909CE1EADD12B465F39FBC4431412290859603C6A815EC3624256F00F23F92CBBCE963FCF178C6DD14203\\r\\nX-D57D3AED: 3ZO7eAau8CL7WIMRKs4sN3D3tLDjz0dLbV79QFUyzQ2Ujvy7cMT6pYYqY16iZVKkSc3dCLJ7zSJH7+u4VD18S7Vl4ZUrpaVfd2+vE6kuoey4m4VkSEu530nj6fImhcD4MUrOEAnl0W826KZ9Q+tr59cQFxbtK52nntMKog2zW1LwTDbZjg0ktGWyd3ZwR5M2G0g+gzS0PKce1EalHCI8JmdVOguzqe7NYGIdyO1h/MezVKT5tTeEFuWv7aBHbDbs0lQXTWwniVL+cteaZSiF2g==\\r\\nX-F696D7D5: Rp59jfzDEZ2wob0225Rf4qq18YmOSpYRn6iLvfyxvbb+cteaZSiF2g==\\r\\nX-Mras: Ok\\r\\nX-Spam: undefined\\r\\nX-Mailru-Intl-Transport: d,d02522c\\r\\n\\r\\n--MXFDb0M4LWs4OUJ3QS1OYg==\\r\\nContent-Type: multipart/alternative; \\r\\n\\tboundary=\"----=_Part_13021810_2129904242.1687555192071\"\\r\\n\\r\\n------=_Part_13021810_2129904242.1687555192071\\r\\nContent-Type: text/plain; charset=UTF-8\\r\\nContent-Transfer-Encoding: base64\\r\\n\\r\\nCgrQl9C00YDQsNCy0YHRgtCy0YPQudGC0LUhCsKgCtCS0Ysg0L/RgNC40LPQu9Cw0YjQtdC90Ysg\\r\\n0LIg0L3QvtCy0YvQuSDQs9C+0YEuINC/0YDQvtC10LrRgiEK0KEg0L/QvtC80L7RidGM0Y4g0L3Q\\r\\nsNGI0LXQs9C+INGB0LDQudGC0LAg0LLRiyDQvNC+0LbQtdGC0LUK0L/QvtC70YPRh9Cw0YLRjCDQ\\r\\ntNC+0L/QvtC70L3QuNGC0LXQu9GM0L3Ri9C5INC00L7RhdC+0LQg0LIg0YDQsNC30LzQtdGA0LUg\\r\\n0L7RggotIDcyLDUwMCDRgNGD0LHQu9C10Lkg0LXQttC10LzQtdGB0Y/Rh9C90L4uCsKgCsKgCgrQ\\r\\nn9C+0LTRgNC+0LHQvdC10LUKCsKgCsKgCsKgCsKgCsKgCsKgCsKgCtCS0LDQttC90L4hINCf0YDQ\\r\\nuNCz0LvQsNGI0LXQvdC40LUg0LTQtdC50YHRgtCy0LjRgtC10LvRjNC90L4g0LIg0YLQtdGH0LXQ\\r\\nvdC40LUg0YHRg9GC0L7QuiDRgSDQvNC+0LzQtdC90YLQsCDQv9GA0L7Rh9GC0LXQvdC40Y8g0L/Q\\r\\nuNGB0YzQvNCwLiAoaHR0cHM6Ly90cmsuZW1sYmVzdC5jb20vcnUvc3Vic2NyaWJlX2NvbmZpcm0/\\r\\naGFzaD02amJpcmJpYnNpYXI4cGQ3eDh1cmd3aXA3aXpjNHNzOG91bzgzdHloNWZhOHA5Ym41amVr\\r\\nZmVjNXRwZ2ZrNGVueTU1NGU5bmhtaXJnbWsp\\r\\n------=_Part_13021810_2129904242.1687555192071\\r\\nContent-Type: text/html; charset=UTF-8\\r\\nContent-Transfer-Encoding: quoted-printable\\r\\n\\r\\n<html xmlns:v=3D\"urn:schemas-microsoft-com:vml\" xmlns:o=3D\"urn:schemas-micr=\\r\\nosoft-com:office:office\" lang=3D\"en\">\\r\\n<head>\\r\\n<title></title>\\r\\n<meta name=3D\"viewport\" content=3D\"width=3Ddevice-width,initial-scale=3D1\">\\r\\n<!--[if mso]><xml></xml><![endif]--><style>\\r\\n*{box-sizing:border-box}body{margin:0;padding:0}a[x-apple-data-detectors]{c=\\r\\nolor:inherit!important;text-decoration:inherit!important}#MessageViewBody a=\\r\\n{color:inherit;text-decoration:none}p{line-height:inherit}.desktop_hide,.de=\\r\\nsktop_hide table{mso-hide:all;display:none;max-height:0;overflow:hidden}.im=\\r\\nage_block img+div{display:none} @media (max-width:620px){.row-content{width=\\r\\n:100%!important}.mobile_hide{display:none}.stack .column{width:100%;display=\\r\\n:block}.mobile_hide{min-height:0;max-height:0;max-width:0;overflow:hidden;f=\\r\\nont-size:0}.desktop_hide,.desktop_hide table{display:table!important;max-he=\\r\\night:none!important}}\\r\\n</style>\\r\\n</head>\\r\\n<body style=3D\"background-color:#f6f6f6;margin:0;padding:0;-webkit-text-siz=\\r\\ne-adjust:none;text-size-adjust:none\">\\r\\n<table class=3D\"nl-container\" width=3D\"100%\" border=3D\"0\" cellpadding=3D\"0\"=\\r\\n cellspacing=3D\"0\" role=3D\"presentation\" style=3D\"mso-table-lspace:0;mso-ta=\\r\\nble-rspace:0;background-color:#f6f6f6\"><tbody><tr><td><table class=3D\"row r=\\r\\now-1\" align=3D\"center\" width=3D\"100%\" border=3D\"0\" cellpadding=3D\"0\" cellsp=\\r\\nacing=3D\"0\" role=3D\"presentation\" style=3D\"mso-table-lspace:0;mso-table-rsp=\\r\\nace:0\"><tbody><tr><td><table class=3D\"row-content stack\" align=3D\"center\" b=\\r\\norder=3D\"0\" cellpadding=3D\"0\" cellspacing=3D\"0\" role=3D\"presentation\" style=\\r\\n=3D\"mso-table-lspace:0;mso-table-rspace:0;border-radius:0;color:#000;width:=\\r\\n600px\" width=3D\"600\"><tbody><tr><td class=3D\"column column-1\" width=3D\"100%=\\r\\n\" style=3D\"mso-table-lspace:0;mso-table-rspace:0;font-weight:400;text-align=\\r\\n:left;padding-bottom:5px;padding-top:5px;vertical-align:top;border-top:0;bo=\\r\\nrder-right:0;border-bottom:0;border-left:0\">\\r\\n<table class=3D\"text_block block-1\" width=3D\"100%\" border=3D\"0\" cellpadding=\\r\\n=3D\"10\" cellspacing=3D\"0\" role=3D\"presentation\" style=3D\"mso-table-lspace:0=\\r\\n;mso-table-rspace:0;word-break:break-word\"><tr><td class=3D\"pad\"><div style=\\r\\n=3D\"font-family:sans-serif\"><div class style=3D\"font-size:14px;font-family:=\\r\\nArial,Helvetica Neue,Helvetica,sans-serif;mso-line-height-alt:16.8px;color:=\\r\\n#555;line-height:1.2\">\\r\\n<p style=3D\"margin:0;mso-line-height-alt:16.8px\">=D0=97=D0=B4=D1=80=D0=B0=\\r\\n=D0=B2=D1=81=D1=82=D0=B2=D1=83=D0=B9=D1=82=D0=B5!</p>\\r\\n<p style=3D\"margin:0;mso-line-height-alt:16.8px\">=C2=A0</p>\\r\\n<p style=3D\"margin:0;mso-line-height-alt:16.8px\">\\r\\n=D0=92=D1=8B =D0=BF=D1=80=D0=B8=D0=B3=D0=BB=D0=B0=D1=88=D0=B5=D0=BD=D1=8B =\\r\\n=D0=B2 =D0=BD=D0=BE=D0=B2=D1=8B=D0=B9 =D0=B3=D0=BE=D1=81. =D0=BF=D1=80=D0=\\r\\n=BE=D0=B5=D0=BA=D1=82!</p>\\r\\n<p style=3D\"margin:0;mso-line-height-alt:16.8px\">=D0=A1 =D0=BF=D0=BE=D0=BC=\\r\\n=D0=BE=D1=89=D1=8C=D1=8E =D0=BD=D0=B0=D1=88=D0=B5=D0=B3=D0=BE =D1=81=D0=B0=\\r\\n=D0=B9=D1=82=D0=B0 =D0=B2=D1=8B =D0=BC=D0=BE=D0=B6=D0=B5=D1=82=D0=B5</p>\\r\\n<p style=3D\"margin:0;mso-line-height-alt:16.8px\">=D0=BF=D0=BE=D0=BB=D1=83=\\r\\n=D1=87=D0=B0=D1=82=D1=8C =D0=B4=D0=BE=D0=BF=D0=BE=D0=BB=D0=BD=D0=B8=D1=82=\\r\\n=D0=B5=D0=BB=D1=8C=D0=BD=D1=8B=D0=B9 =D0=B4=D0=BE=D1=85=D0=BE=D0=B4 =D0=B2 =\\r\\n=D1=80=D0=B0=D0=B7=D0=BC=D0=B5=D1=80=D0=B5 =D0=BE=D1=82</p>\\r\\n<p style=3D\"margin:0;mso-line-height-alt:16.8px\">- 72,500 =D1=80=D1=83=D0=\\r\\n=B1=D0=BB=D0=B5=D0=B9 =D0=B5=D0=B6=D0=B5=D0=BC=D0=B5=D1=81=D1=8F=D1=87=D0=\\r\\n=BD=D0=BE.</p>\\r\\n<p style=3D\"margin:0;mso-line-height-alt:16.8px\">=C2=A0</p>\\r\\n<p style=3D\"margin:0;mso-line-height-alt:16.8px\">=C2=A0</p>\\r\\n</div></div></td></tr></table>\\r\\n<table class=3D\"button_block block-2\" width=3D\"100%\" border=3D\"0\" cellpaddi=\\r\\nng=3D\"10\" cellspacing=3D\"0\" role=3D\"presentation\" style=3D\"mso-table-lspace=\\r\\n:0;mso-table-rspace:0\"><tr><td class=3D\"pad\"><div class=3D\"alignment\" align=\\r\\n=3D\"left\">\\r\\n<!--[if mso]><v:roundrect xmlns:v=3D\"urn:schemas-microsoft-com:vml\" xmlns:w=\\r\\n=3D\"urn:schemas-microsoft-com:office:word\" href=3D\"https://trk.emlbest.com/=\\r\\nru/subscribe_confirm?hash=3D6wp7iyfbeaor14ma5wrn4yqpcewu11n6yajc118sbd8siwi=\\r\\ncq6iynfmckwrts7gbz5xarp3cdwbt433ycop1x51ghoegi6qy34j3onoo\" style=3D\"height:=\\r\\n42px;width:122px;v-text-anchor:middle;\" arcsize=3D\"10%\" stroke=3D\"false\" fi=\\r\\nllcolor=3D\"#d31919\"><v:textbox inset=3D\"0px,0px,0px,0px\"><center style=3D\"c=\\r\\nolor:#ffffff; font-family:Arial, sans-serif; font-size:16px\"><![endif]-->\\r\\n<a href=3D\"https://trk.emlbest.com/ru/subscribe_confirm?hash=3D6wp7iyfbeaor=\\r\\n14ma5wrn4yqpcewu11n6yajc118sbd8siwicq6iynfmckwrts7gbz5xarp3cdwbt433ycop1x51=\\r\\nghoegi6qy34j3onoo\" target=3D\"_blank\" style=3D\"text-decoration:none;display:=\\r\\ninline-block;color:#ffffff;background-color:#d31919;border-radius:4px;width=\\r\\n:auto;border-top:0px solid transparent;font-weight:400;border-right:0px sol=\\r\\nid transparent;border-bottom:0px solid transparent;border-left:0px solid tr=\\r\\nansparent;padding-top:5px;padding-bottom:5px;font-family:Arial, Helvetica N=\\r\\neue, Helvetica, sans-serif;font-size:16px;text-align:center;mso-border-alt:=\\r\\nnone;word-break:keep-all;\"><span style=3D\"padding-left:20px;padding-right:2=\\r\\n0px;font-size:16px;display:inline-block;letter-spacing:normal;\"><span style=\\r\\n=3D\"word-break: break-word; line-height: 32px;\">=D0=9F=D0=BE=D0=B4=D1=80=D0=\\r\\n=BE=D0=B1=D0=BD=D0=B5=D0=B5</span></span></a>\\r\\n<!--[if mso]></center></v:textbox></v:roundrect><![endif]-->\\r\\n</div></td></tr></table>\\r\\n<table class=3D\"text_block block-3\" width=3D\"100%\" border=3D\"0\" cellpadding=\\r\\n=3D\"10\" cellspacing=3D\"0\" role=3D\"presentation\" style=3D\"mso-table-lspace:0=\\r\\n;mso-table-rspace:0;word-break:break-word\"><tr><td class=3D\"pad\"><div style=\\r\\n=3D\"font-family:sans-serif\"><div class style=3D\"font-size:14px;font-family:=\\r\\nArial,Helvetica Neue,Helvetica,sans-serif;mso-line-height-alt:16.8px;color:=\\r\\n#555;line-height:1.2\">\\r\\n<p style=3D\"margin:0;mso-line-height-alt:16.8px\">=C2=A0</p>\\r\\n<p style=3D\"margin:0;mso-line-height-alt:16.8px\">=C2=A0</p>\\r\\n<p style=3D\"margin:0;mso-line-height-alt:16.8px\">=C2=A0</p>\\r\\n<p style=3D\"margin:0;mso-line-height-alt:16.8px\">=C2=A0</p>\\r\\n<p style=3D\"margin:0;mso-line-height-alt:16.8px\">=C2=A0</p>\\r\\n<p style=3D\"margin:0;mso-line-height-alt:16.8px\">=C2=A0</p>\\r\\n<p style=3D\"margin:0;mso-line-height-alt:16.8px\">=C2=A0</p>\\r\\n<p style=3D\"margin:0;mso-line-height-alt:16.8px\">\\r\\n=D0=92=D0=B0=D0=B6=D0=BD=D0=BE! =D0=9F=D1=80=D0=B8=D0=B3=D0=BB=D0=B0=D1=88=\\r\\n=D0=B5=D0=BD=D0=B8=D0=B5 =D0=B4=D0=B5=D0=B9=D1=81=D1=82=D0=B2=D0=B8=D1=82=\\r\\n=D0=B5=D0=BB=D1=8C=D0=BD=D0=BE =D0=B2 =D1=82=D0=B5=D1=87=D0=B5=D0=BD=D0=B8=\\r\\n=D0=B5 =D1=81=D1=83=D1=82=D0=BE=D0=BA =D1=81 =D0=BC=D0=BE=D0=BC=D0=B5=D0=BD=\\r\\n=D1=82=D0=B0 =D0=BF=D1=80=D0=BE=D1=87=D1=82=D0=B5=D0=BD=D0=B8=D1=8F =D0=BF=\\r\\n=D0=B8=D1=81=D1=8C=D0=BC=D0=B0<span style=3D\"font-size:8px;\"><a href=3D\"htt=\\r\\nps://trk.emlbest.com/ru/subscribe_confirm?hash=3D6jbirbibsiar8pd7x8urgwip7i=\\r\\nzc4ss8ouo83tyh5fa8p9bn5jekfec5tpgfk4eny554e9nhmirgmk\" target=3D\"_blank\" sty=\\r\\nle=3D\"text-decoration: underline; color: #555555;\" rel=3D\"noopener\">.</a></=\\r\\nspan></p>\\r\\n</div></div></td></tr></table>\\r\\n</td></tr></tbody></table></td></tr></tbody></table></td></tr></tbody></tab=\\r\\nle>\\r\\n<!-- End -->\\r\\n</body>\\r\\n</html>\\r\\n------=_Part_13021810_2129904242.1687555192071--\\r\\n\\r\\n--MXFDb0M4LWs4OUJ3QS1OYg==--\\r\\n'),\n",
       " b')']"
      ]
     },
     "execution_count": 30,
     "metadata": {},
     "output_type": "execute_result"
    }
   ],
   "source": [
    "data"
   ]
  },
  {
   "cell_type": "code",
   "execution_count": 31,
   "metadata": {},
   "outputs": [
    {
     "data": {
      "text/plain": [
       "b'Delivered-To: vostrov_so@bk.ru\\r\\nReturn-path: <postman5886126@mail.emlbest.com>\\r\\nAuthentication-Results: mxs.mail.ru; spf=pass (mx210.i.mail.ru: domain of mail.emlbest.com designates 87.246.187.91 as permitted sender) smtp.mailfrom=postman5886126@mail.emlbest.com smtp.helo=smtp428.emlone.com;\\r\\n\\t dkim=pass header.d=usndr.com;\\r\\n\\t dkim=pass header.d=topeml.com\\r\\nReceived-SPF: pass (mx210.i.mail.ru: domain of mail.emlbest.com designates 87.246.187.91 as permitted sender) client-ip=87.246.187.91; envelope-from=postman5886126@mail.emlbest.com; helo=smtp428.emlone.com;\\r\\nReceived: from smtp428.emlone.com ([87.246.187.91]:55236)\\r\\n\\tby mx210.i.mail.ru with esmtp (envelope-from <postman5886126@mail.emlbest.com>)\\r\\n\\tid 1qCoC8-00B6NH-7W\\r\\n\\tfor vostrov_so@bk.ru; Sat, 24 Jun 2023 00:19:52 +0300\\r\\nDKIM-Signature: v=1; a=rsa-sha256; c=relaxed/relaxed; s=jan2010; d=usndr.com;\\r\\n h=From:Sender:To:Message-Id:Subject:MIME-Version:Content-Type:List-Help:\\r\\n List-Subscribe:Date:no;\\r\\n bh=DBhRtxl3p8xnUE7pshN0Vu+PXlMTIBRCy0EjPUr8C8I=;\\r\\n b=PbaBjah76jYH5gyRdpYaFpV2TuU8Csj5ZR0uNTcWqaZ8x4N7u8yH6pyq+mZ92gcXfv9XEzCB4Gua\\r\\n   xty58qB4CGwByQIJzFgFkCLznP7JM2vu7026tQMWAHCPWSN4aUKO2tDOVQ/qcD6i2P3VMk1I2Xo6\\r\\n   rpZK5KM8ydGz/QgCrR8=\\r\\nDKIM-Signature: v=1; a=rsa-sha256; c=relaxed/relaxed; s=jul2015; d=topeml.com;\\r\\n h=From:Sender:To:Message-Id:Subject:MIME-Version:Content-Type:List-Help:\\r\\n List-Subscribe:Date;\\r\\n bh=DBhRtxl3p8xnUE7pshN0Vu+PXlMTIBRCy0EjPUr8C8I=;\\r\\n b=HvwOTerpEooCHB0jsqNFEnk7mTcD5VJYuMlDEX2GpS7T2U3SM4CLX4X4H2SJWE28wqiRPePE3f1U\\r\\n   XSQeXbHQv5wAP/bvlxJJXFoKZqwb5WsaFFI81kCnnVYC1Ccsm8QzPnPnP/F5pDg9/KLkGZdAh3hd\\r\\n   gORusNKbsSEXV6jxuLs=\\r\\nReceived: by smtp368.emlone.com id hio69s2erpki for <vostrov_so@bk.ru>; Fri, 23 Jun 2023 21:20:30 +0000 (envelope-from <postman5886126@mail.emlbest.com>)\\r\\nFrom: =?UTF-8?B?0J7QvdC70LDQudC9INCf0YDQvtC10LrRgg==?= <mail-inform@sociologist.com>\\r\\nSender: =?UTF-8?B?0J7QvdC70LDQudC9INCf0YDQvtC10LrRgg==?= <mail-inform@sociologist.com>\\r\\nTo: vostrov_so@bk.ru\\r\\nMessage-Id: <E1qCoC8-k89BwA-Nb@ucs302-ucs-15.msgpanel.com>\\r\\nSubject: =?UTF-8?B?0JLRiyDQv9GA0LjQs9C70LDRiNC10L3RiyA=?=\\r\\n =?UTF-8?B?0LIg0L3QvtCy0YvQuSDQv9GA0L7QtdC60YI=?=\\r\\nMIME-Version: 1.0\\r\\nContent-Type: multipart/mixed; boundary=\"MXFDb0M4LWs4OUJ3QS1OYg==\"\\r\\nList-Help: <https://trk.emlbest.com/ru/help/forsubscribers>\\r\\nList-Subscribe: https://trk.emlbest.com/ru/subscribe_confirm?hash=6jbirbibsiar8pd7x8urgwip7izc4ss8ouo83tyh5fa8p9bn5jekfec5tpgfk4eny554e9nhmirgmk\\r\\nX-EnvId: usproduction.cs_5886126_31475765618_af978e5e-120b-11ee-86d4-eae2a7cc65c1\\r\\nDate: Fri, 23 Jun 2023 21:20:30 +0000\\r\\nX-Mailru-Src: mxs\\r\\nX-6b629377: 1\\r\\nX-7564579A: B8F34718100C35BD\\r\\nX-77F55803: E822A06ED42C499AFCCC32447FDBB891B9EE6BF99905F35E12EB7FDDDA4D28E00BBDAAE39103F3638701F0628C4B95CBCBCD77BAE04568052F75B2FAF742DB1F22A8EFCC919B35DAD64C754CAC7C657B\\r\\nX-7FA49CB5: FF5795518A3D127A4AD6D5ED66289B5278DA827A17800CE707FD2F46D4FEEE7FC2099A533E45F2D0395957E7521B51C2CFCAF695D4D8E9FCEA1F7E6F0F101C6778DA827A17800CE77A420BBEAE18E7B3EA1F7E6F0F101C67CDEEF6D7F21E0D1D9295C2E9FA3191EE1B59CA4C82EFA658BDD36F284195E3CD24BA3D1E29A4BA8FF6B57BC7E64490618DEB871D839B73339E8FC8737B5C22498424CA1AAF98A6958941B15DA834481FCF19DD082D7633A0EF3E4896CB9E6436389733CBF5DBD5E9D5E8D9A59859A8B625DC386152A6764ACC7F00164DA146DA6F5DAA56C3B73B237318B6A418E8EAB84AF75897E43B5B30A18204E546F3947CFC9F0E14D55C87C7520BB28E76B93C0993EC92FD9297F6719449624AB7ADAF37E050C7F68D6568A7A54B52C917363A3378DA827A17800CE7EDEA5023AB3ED1454AF75897E43B5B309449624AB7ADAF37086CC22E99EF6E46\\r\\nX-C1DE0DAB: 0D63561A33F958A5A227D681FAAB9BB87ABCAA62336A280B298C2AB1F70652C05A4FF58CDAEABE2AA132EA92956906CBEC0DA21D194D9A2CC66B2B37046EC955823CB91A9FED034534781492E4B8EEADDF4906C53AD08F48C79554A2A72441328621D336A7BC284946AD531847A6065AED8438A78DFE0A9EC79554A2A72441321D95598F8B11C588794DB285CF8A07CEFC4C38C612E6C07F\\r\\nX-C8649E89: 1C3962B70DF3F0ADD4B3C1CD9B5CE977221D93EE93388A139F612A77E88288920776B5B2C279835F17BCBE6708A5A68D02015372BE9702A2927DC94AA7F6EED3ABAB0477E45EE5E206F57F9AB763AB3C0255BA9932B1D916E396CFA0AA74237A9B815B7972F6FBBE28C0B6FA0AA112DCE3296C48CEFA3E1D52EE4E5D9E54FDA44C41F94D744909CE1EADD12B465F39FBC4431412290859603C6A815EC3624256F00F23F92CBBCE963FCF178C6DD14203\\r\\nX-D57D3AED: 3ZO7eAau8CL7WIMRKs4sN3D3tLDjz0dLbV79QFUyzQ2Ujvy7cMT6pYYqY16iZVKkSc3dCLJ7zSJH7+u4VD18S7Vl4ZUrpaVfd2+vE6kuoey4m4VkSEu530nj6fImhcD4MUrOEAnl0W826KZ9Q+tr59cQFxbtK52nntMKog2zW1LwTDbZjg0ktGWyd3ZwR5M2G0g+gzS0PKce1EalHCI8JmdVOguzqe7NYGIdyO1h/MezVKT5tTeEFuWv7aBHbDbs0lQXTWwniVL+cteaZSiF2g==\\r\\nX-F696D7D5: Rp59jfzDEZ2wob0225Rf4qq18YmOSpYRn6iLvfyxvbb+cteaZSiF2g==\\r\\nX-Mras: Ok\\r\\nX-Spam: undefined\\r\\nX-Mailru-Intl-Transport: d,d02522c\\r\\n\\r\\n--MXFDb0M4LWs4OUJ3QS1OYg==\\r\\nContent-Type: multipart/alternative; \\r\\n\\tboundary=\"----=_Part_13021810_2129904242.1687555192071\"\\r\\n\\r\\n------=_Part_13021810_2129904242.1687555192071\\r\\nContent-Type: text/plain; charset=UTF-8\\r\\nContent-Transfer-Encoding: base64\\r\\n\\r\\nCgrQl9C00YDQsNCy0YHRgtCy0YPQudGC0LUhCsKgCtCS0Ysg0L/RgNC40LPQu9Cw0YjQtdC90Ysg\\r\\n0LIg0L3QvtCy0YvQuSDQs9C+0YEuINC/0YDQvtC10LrRgiEK0KEg0L/QvtC80L7RidGM0Y4g0L3Q\\r\\nsNGI0LXQs9C+INGB0LDQudGC0LAg0LLRiyDQvNC+0LbQtdGC0LUK0L/QvtC70YPRh9Cw0YLRjCDQ\\r\\ntNC+0L/QvtC70L3QuNGC0LXQu9GM0L3Ri9C5INC00L7RhdC+0LQg0LIg0YDQsNC30LzQtdGA0LUg\\r\\n0L7RggotIDcyLDUwMCDRgNGD0LHQu9C10Lkg0LXQttC10LzQtdGB0Y/Rh9C90L4uCsKgCsKgCgrQ\\r\\nn9C+0LTRgNC+0LHQvdC10LUKCsKgCsKgCsKgCsKgCsKgCsKgCsKgCtCS0LDQttC90L4hINCf0YDQ\\r\\nuNCz0LvQsNGI0LXQvdC40LUg0LTQtdC50YHRgtCy0LjRgtC10LvRjNC90L4g0LIg0YLQtdGH0LXQ\\r\\nvdC40LUg0YHRg9GC0L7QuiDRgSDQvNC+0LzQtdC90YLQsCDQv9GA0L7Rh9GC0LXQvdC40Y8g0L/Q\\r\\nuNGB0YzQvNCwLiAoaHR0cHM6Ly90cmsuZW1sYmVzdC5jb20vcnUvc3Vic2NyaWJlX2NvbmZpcm0/\\r\\naGFzaD02amJpcmJpYnNpYXI4cGQ3eDh1cmd3aXA3aXpjNHNzOG91bzgzdHloNWZhOHA5Ym41amVr\\r\\nZmVjNXRwZ2ZrNGVueTU1NGU5bmhtaXJnbWsp\\r\\n------=_Part_13021810_2129904242.1687555192071\\r\\nContent-Type: text/html; charset=UTF-8\\r\\nContent-Transfer-Encoding: quoted-printable\\r\\n\\r\\n<html xmlns:v=3D\"urn:schemas-microsoft-com:vml\" xmlns:o=3D\"urn:schemas-micr=\\r\\nosoft-com:office:office\" lang=3D\"en\">\\r\\n<head>\\r\\n<title></title>\\r\\n<meta name=3D\"viewport\" content=3D\"width=3Ddevice-width,initial-scale=3D1\">\\r\\n<!--[if mso]><xml></xml><![endif]--><style>\\r\\n*{box-sizing:border-box}body{margin:0;padding:0}a[x-apple-data-detectors]{c=\\r\\nolor:inherit!important;text-decoration:inherit!important}#MessageViewBody a=\\r\\n{color:inherit;text-decoration:none}p{line-height:inherit}.desktop_hide,.de=\\r\\nsktop_hide table{mso-hide:all;display:none;max-height:0;overflow:hidden}.im=\\r\\nage_block img+div{display:none} @media (max-width:620px){.row-content{width=\\r\\n:100%!important}.mobile_hide{display:none}.stack .column{width:100%;display=\\r\\n:block}.mobile_hide{min-height:0;max-height:0;max-width:0;overflow:hidden;f=\\r\\nont-size:0}.desktop_hide,.desktop_hide table{display:table!important;max-he=\\r\\night:none!important}}\\r\\n</style>\\r\\n</head>\\r\\n<body style=3D\"background-color:#f6f6f6;margin:0;padding:0;-webkit-text-siz=\\r\\ne-adjust:none;text-size-adjust:none\">\\r\\n<table class=3D\"nl-container\" width=3D\"100%\" border=3D\"0\" cellpadding=3D\"0\"=\\r\\n cellspacing=3D\"0\" role=3D\"presentation\" style=3D\"mso-table-lspace:0;mso-ta=\\r\\nble-rspace:0;background-color:#f6f6f6\"><tbody><tr><td><table class=3D\"row r=\\r\\now-1\" align=3D\"center\" width=3D\"100%\" border=3D\"0\" cellpadding=3D\"0\" cellsp=\\r\\nacing=3D\"0\" role=3D\"presentation\" style=3D\"mso-table-lspace:0;mso-table-rsp=\\r\\nace:0\"><tbody><tr><td><table class=3D\"row-content stack\" align=3D\"center\" b=\\r\\norder=3D\"0\" cellpadding=3D\"0\" cellspacing=3D\"0\" role=3D\"presentation\" style=\\r\\n=3D\"mso-table-lspace:0;mso-table-rspace:0;border-radius:0;color:#000;width:=\\r\\n600px\" width=3D\"600\"><tbody><tr><td class=3D\"column column-1\" width=3D\"100%=\\r\\n\" style=3D\"mso-table-lspace:0;mso-table-rspace:0;font-weight:400;text-align=\\r\\n:left;padding-bottom:5px;padding-top:5px;vertical-align:top;border-top:0;bo=\\r\\nrder-right:0;border-bottom:0;border-left:0\">\\r\\n<table class=3D\"text_block block-1\" width=3D\"100%\" border=3D\"0\" cellpadding=\\r\\n=3D\"10\" cellspacing=3D\"0\" role=3D\"presentation\" style=3D\"mso-table-lspace:0=\\r\\n;mso-table-rspace:0;word-break:break-word\"><tr><td class=3D\"pad\"><div style=\\r\\n=3D\"font-family:sans-serif\"><div class style=3D\"font-size:14px;font-family:=\\r\\nArial,Helvetica Neue,Helvetica,sans-serif;mso-line-height-alt:16.8px;color:=\\r\\n#555;line-height:1.2\">\\r\\n<p style=3D\"margin:0;mso-line-height-alt:16.8px\">=D0=97=D0=B4=D1=80=D0=B0=\\r\\n=D0=B2=D1=81=D1=82=D0=B2=D1=83=D0=B9=D1=82=D0=B5!</p>\\r\\n<p style=3D\"margin:0;mso-line-height-alt:16.8px\">=C2=A0</p>\\r\\n<p style=3D\"margin:0;mso-line-height-alt:16.8px\">\\r\\n=D0=92=D1=8B =D0=BF=D1=80=D0=B8=D0=B3=D0=BB=D0=B0=D1=88=D0=B5=D0=BD=D1=8B =\\r\\n=D0=B2 =D0=BD=D0=BE=D0=B2=D1=8B=D0=B9 =D0=B3=D0=BE=D1=81. =D0=BF=D1=80=D0=\\r\\n=BE=D0=B5=D0=BA=D1=82!</p>\\r\\n<p style=3D\"margin:0;mso-line-height-alt:16.8px\">=D0=A1 =D0=BF=D0=BE=D0=BC=\\r\\n=D0=BE=D1=89=D1=8C=D1=8E =D0=BD=D0=B0=D1=88=D0=B5=D0=B3=D0=BE =D1=81=D0=B0=\\r\\n=D0=B9=D1=82=D0=B0 =D0=B2=D1=8B =D0=BC=D0=BE=D0=B6=D0=B5=D1=82=D0=B5</p>\\r\\n<p style=3D\"margin:0;mso-line-height-alt:16.8px\">=D0=BF=D0=BE=D0=BB=D1=83=\\r\\n=D1=87=D0=B0=D1=82=D1=8C =D0=B4=D0=BE=D0=BF=D0=BE=D0=BB=D0=BD=D0=B8=D1=82=\\r\\n=D0=B5=D0=BB=D1=8C=D0=BD=D1=8B=D0=B9 =D0=B4=D0=BE=D1=85=D0=BE=D0=B4 =D0=B2 =\\r\\n=D1=80=D0=B0=D0=B7=D0=BC=D0=B5=D1=80=D0=B5 =D0=BE=D1=82</p>\\r\\n<p style=3D\"margin:0;mso-line-height-alt:16.8px\">- 72,500 =D1=80=D1=83=D0=\\r\\n=B1=D0=BB=D0=B5=D0=B9 =D0=B5=D0=B6=D0=B5=D0=BC=D0=B5=D1=81=D1=8F=D1=87=D0=\\r\\n=BD=D0=BE.</p>\\r\\n<p style=3D\"margin:0;mso-line-height-alt:16.8px\">=C2=A0</p>\\r\\n<p style=3D\"margin:0;mso-line-height-alt:16.8px\">=C2=A0</p>\\r\\n</div></div></td></tr></table>\\r\\n<table class=3D\"button_block block-2\" width=3D\"100%\" border=3D\"0\" cellpaddi=\\r\\nng=3D\"10\" cellspacing=3D\"0\" role=3D\"presentation\" style=3D\"mso-table-lspace=\\r\\n:0;mso-table-rspace:0\"><tr><td class=3D\"pad\"><div class=3D\"alignment\" align=\\r\\n=3D\"left\">\\r\\n<!--[if mso]><v:roundrect xmlns:v=3D\"urn:schemas-microsoft-com:vml\" xmlns:w=\\r\\n=3D\"urn:schemas-microsoft-com:office:word\" href=3D\"https://trk.emlbest.com/=\\r\\nru/subscribe_confirm?hash=3D6wp7iyfbeaor14ma5wrn4yqpcewu11n6yajc118sbd8siwi=\\r\\ncq6iynfmckwrts7gbz5xarp3cdwbt433ycop1x51ghoegi6qy34j3onoo\" style=3D\"height:=\\r\\n42px;width:122px;v-text-anchor:middle;\" arcsize=3D\"10%\" stroke=3D\"false\" fi=\\r\\nllcolor=3D\"#d31919\"><v:textbox inset=3D\"0px,0px,0px,0px\"><center style=3D\"c=\\r\\nolor:#ffffff; font-family:Arial, sans-serif; font-size:16px\"><![endif]-->\\r\\n<a href=3D\"https://trk.emlbest.com/ru/subscribe_confirm?hash=3D6wp7iyfbeaor=\\r\\n14ma5wrn4yqpcewu11n6yajc118sbd8siwicq6iynfmckwrts7gbz5xarp3cdwbt433ycop1x51=\\r\\nghoegi6qy34j3onoo\" target=3D\"_blank\" style=3D\"text-decoration:none;display:=\\r\\ninline-block;color:#ffffff;background-color:#d31919;border-radius:4px;width=\\r\\n:auto;border-top:0px solid transparent;font-weight:400;border-right:0px sol=\\r\\nid transparent;border-bottom:0px solid transparent;border-left:0px solid tr=\\r\\nansparent;padding-top:5px;padding-bottom:5px;font-family:Arial, Helvetica N=\\r\\neue, Helvetica, sans-serif;font-size:16px;text-align:center;mso-border-alt:=\\r\\nnone;word-break:keep-all;\"><span style=3D\"padding-left:20px;padding-right:2=\\r\\n0px;font-size:16px;display:inline-block;letter-spacing:normal;\"><span style=\\r\\n=3D\"word-break: break-word; line-height: 32px;\">=D0=9F=D0=BE=D0=B4=D1=80=D0=\\r\\n=BE=D0=B1=D0=BD=D0=B5=D0=B5</span></span></a>\\r\\n<!--[if mso]></center></v:textbox></v:roundrect><![endif]-->\\r\\n</div></td></tr></table>\\r\\n<table class=3D\"text_block block-3\" width=3D\"100%\" border=3D\"0\" cellpadding=\\r\\n=3D\"10\" cellspacing=3D\"0\" role=3D\"presentation\" style=3D\"mso-table-lspace:0=\\r\\n;mso-table-rspace:0;word-break:break-word\"><tr><td class=3D\"pad\"><div style=\\r\\n=3D\"font-family:sans-serif\"><div class style=3D\"font-size:14px;font-family:=\\r\\nArial,Helvetica Neue,Helvetica,sans-serif;mso-line-height-alt:16.8px;color:=\\r\\n#555;line-height:1.2\">\\r\\n<p style=3D\"margin:0;mso-line-height-alt:16.8px\">=C2=A0</p>\\r\\n<p style=3D\"margin:0;mso-line-height-alt:16.8px\">=C2=A0</p>\\r\\n<p style=3D\"margin:0;mso-line-height-alt:16.8px\">=C2=A0</p>\\r\\n<p style=3D\"margin:0;mso-line-height-alt:16.8px\">=C2=A0</p>\\r\\n<p style=3D\"margin:0;mso-line-height-alt:16.8px\">=C2=A0</p>\\r\\n<p style=3D\"margin:0;mso-line-height-alt:16.8px\">=C2=A0</p>\\r\\n<p style=3D\"margin:0;mso-line-height-alt:16.8px\">=C2=A0</p>\\r\\n<p style=3D\"margin:0;mso-line-height-alt:16.8px\">\\r\\n=D0=92=D0=B0=D0=B6=D0=BD=D0=BE! =D0=9F=D1=80=D0=B8=D0=B3=D0=BB=D0=B0=D1=88=\\r\\n=D0=B5=D0=BD=D0=B8=D0=B5 =D0=B4=D0=B5=D0=B9=D1=81=D1=82=D0=B2=D0=B8=D1=82=\\r\\n=D0=B5=D0=BB=D1=8C=D0=BD=D0=BE =D0=B2 =D1=82=D0=B5=D1=87=D0=B5=D0=BD=D0=B8=\\r\\n=D0=B5 =D1=81=D1=83=D1=82=D0=BE=D0=BA =D1=81 =D0=BC=D0=BE=D0=BC=D0=B5=D0=BD=\\r\\n=D1=82=D0=B0 =D0=BF=D1=80=D0=BE=D1=87=D1=82=D0=B5=D0=BD=D0=B8=D1=8F =D0=BF=\\r\\n=D0=B8=D1=81=D1=8C=D0=BC=D0=B0<span style=3D\"font-size:8px;\"><a href=3D\"htt=\\r\\nps://trk.emlbest.com/ru/subscribe_confirm?hash=3D6jbirbibsiar8pd7x8urgwip7i=\\r\\nzc4ss8ouo83tyh5fa8p9bn5jekfec5tpgfk4eny554e9nhmirgmk\" target=3D\"_blank\" sty=\\r\\nle=3D\"text-decoration: underline; color: #555555;\" rel=3D\"noopener\">.</a></=\\r\\nspan></p>\\r\\n</div></div></td></tr></table>\\r\\n</td></tr></tbody></table></td></tr></tbody></table></td></tr></tbody></tab=\\r\\nle>\\r\\n<!-- End -->\\r\\n</body>\\r\\n</html>\\r\\n------=_Part_13021810_2129904242.1687555192071--\\r\\n\\r\\n--MXFDb0M4LWs4OUJ3QS1OYg==--\\r\\n'"
      ]
     },
     "execution_count": 31,
     "metadata": {},
     "output_type": "execute_result"
    }
   ],
   "source": [
    "raw_email = data[0][1]\n",
    "raw_email"
   ]
  },
  {
   "attachments": {},
   "cell_type": "markdown",
   "metadata": {},
   "source": [
    "Использование UID вместо ID"
   ]
  },
  {
   "cell_type": "code",
   "execution_count": 32,
   "metadata": {},
   "outputs": [
    {
     "data": {
      "text/plain": [
       "b'19474'"
      ]
     },
     "execution_count": 32,
     "metadata": {},
     "output_type": "execute_result"
    }
   ],
   "source": [
    "result, data = imap.uid('search', None, 'ALL')\n",
    "latest_email_uid = data[0].split()[-1]\n",
    "latest_email_uid"
   ]
  },
  {
   "cell_type": "code",
   "execution_count": 33,
   "metadata": {},
   "outputs": [
    {
     "data": {
      "text/plain": [
       "b'Delivered-To: vostrov_so@bk.ru\\r\\nReturn-path: <postman5886126@mail.emlbest.com>\\r\\nAuthentication-Results: mxs.mail.ru; spf=pass (mx210.i.mail.ru: domain of mail.emlbest.com designates 87.246.187.91 as permitted sender) smtp.mailfrom=postman5886126@mail.emlbest.com smtp.helo=smtp428.emlone.com;\\r\\n\\t dkim=pass header.d=usndr.com;\\r\\n\\t dkim=pass header.d=topeml.com\\r\\nReceived-SPF: pass (mx210.i.mail.ru: domain of mail.emlbest.com designates 87.246.187.91 as permitted sender) client-ip=87.246.187.91; envelope-from=postman5886126@mail.emlbest.com; helo=smtp428.emlone.com;\\r\\nReceived: from smtp428.emlone.com ([87.246.187.91]:55236)\\r\\n\\tby mx210.i.mail.ru with esmtp (envelope-from <postman5886126@mail.emlbest.com>)\\r\\n\\tid 1qCoC8-00B6NH-7W\\r\\n\\tfor vostrov_so@bk.ru; Sat, 24 Jun 2023 00:19:52 +0300\\r\\nDKIM-Signature: v=1; a=rsa-sha256; c=relaxed/relaxed; s=jan2010; d=usndr.com;\\r\\n h=From:Sender:To:Message-Id:Subject:MIME-Version:Content-Type:List-Help:\\r\\n List-Subscribe:Date:no;\\r\\n bh=DBhRtxl3p8xnUE7pshN0Vu+PXlMTIBRCy0EjPUr8C8I=;\\r\\n b=PbaBjah76jYH5gyRdpYaFpV2TuU8Csj5ZR0uNTcWqaZ8x4N7u8yH6pyq+mZ92gcXfv9XEzCB4Gua\\r\\n   xty58qB4CGwByQIJzFgFkCLznP7JM2vu7026tQMWAHCPWSN4aUKO2tDOVQ/qcD6i2P3VMk1I2Xo6\\r\\n   rpZK5KM8ydGz/QgCrR8=\\r\\nDKIM-Signature: v=1; a=rsa-sha256; c=relaxed/relaxed; s=jul2015; d=topeml.com;\\r\\n h=From:Sender:To:Message-Id:Subject:MIME-Version:Content-Type:List-Help:\\r\\n List-Subscribe:Date;\\r\\n bh=DBhRtxl3p8xnUE7pshN0Vu+PXlMTIBRCy0EjPUr8C8I=;\\r\\n b=HvwOTerpEooCHB0jsqNFEnk7mTcD5VJYuMlDEX2GpS7T2U3SM4CLX4X4H2SJWE28wqiRPePE3f1U\\r\\n   XSQeXbHQv5wAP/bvlxJJXFoKZqwb5WsaFFI81kCnnVYC1Ccsm8QzPnPnP/F5pDg9/KLkGZdAh3hd\\r\\n   gORusNKbsSEXV6jxuLs=\\r\\nReceived: by smtp368.emlone.com id hio69s2erpki for <vostrov_so@bk.ru>; Fri, 23 Jun 2023 21:20:30 +0000 (envelope-from <postman5886126@mail.emlbest.com>)\\r\\nFrom: =?UTF-8?B?0J7QvdC70LDQudC9INCf0YDQvtC10LrRgg==?= <mail-inform@sociologist.com>\\r\\nSender: =?UTF-8?B?0J7QvdC70LDQudC9INCf0YDQvtC10LrRgg==?= <mail-inform@sociologist.com>\\r\\nTo: vostrov_so@bk.ru\\r\\nMessage-Id: <E1qCoC8-k89BwA-Nb@ucs302-ucs-15.msgpanel.com>\\r\\nSubject: =?UTF-8?B?0JLRiyDQv9GA0LjQs9C70LDRiNC10L3RiyA=?=\\r\\n =?UTF-8?B?0LIg0L3QvtCy0YvQuSDQv9GA0L7QtdC60YI=?=\\r\\nMIME-Version: 1.0\\r\\nContent-Type: multipart/mixed; boundary=\"MXFDb0M4LWs4OUJ3QS1OYg==\"\\r\\nList-Help: <https://trk.emlbest.com/ru/help/forsubscribers>\\r\\nList-Subscribe: https://trk.emlbest.com/ru/subscribe_confirm?hash=6jbirbibsiar8pd7x8urgwip7izc4ss8ouo83tyh5fa8p9bn5jekfec5tpgfk4eny554e9nhmirgmk\\r\\nX-EnvId: usproduction.cs_5886126_31475765618_af978e5e-120b-11ee-86d4-eae2a7cc65c1\\r\\nDate: Fri, 23 Jun 2023 21:20:30 +0000\\r\\nX-Mailru-Src: mxs\\r\\nX-6b629377: 1\\r\\nX-7564579A: B8F34718100C35BD\\r\\nX-77F55803: E822A06ED42C499AFCCC32447FDBB891B9EE6BF99905F35E12EB7FDDDA4D28E00BBDAAE39103F3638701F0628C4B95CBCBCD77BAE04568052F75B2FAF742DB1F22A8EFCC919B35DAD64C754CAC7C657B\\r\\nX-7FA49CB5: FF5795518A3D127A4AD6D5ED66289B5278DA827A17800CE707FD2F46D4FEEE7FC2099A533E45F2D0395957E7521B51C2CFCAF695D4D8E9FCEA1F7E6F0F101C6778DA827A17800CE77A420BBEAE18E7B3EA1F7E6F0F101C67CDEEF6D7F21E0D1D9295C2E9FA3191EE1B59CA4C82EFA658BDD36F284195E3CD24BA3D1E29A4BA8FF6B57BC7E64490618DEB871D839B73339E8FC8737B5C22498424CA1AAF98A6958941B15DA834481FCF19DD082D7633A0EF3E4896CB9E6436389733CBF5DBD5E9D5E8D9A59859A8B625DC386152A6764ACC7F00164DA146DA6F5DAA56C3B73B237318B6A418E8EAB84AF75897E43B5B30A18204E546F3947CFC9F0E14D55C87C7520BB28E76B93C0993EC92FD9297F6719449624AB7ADAF37E050C7F68D6568A7A54B52C917363A3378DA827A17800CE7EDEA5023AB3ED1454AF75897E43B5B309449624AB7ADAF37086CC22E99EF6E46\\r\\nX-C1DE0DAB: 0D63561A33F958A5A227D681FAAB9BB87ABCAA62336A280B298C2AB1F70652C05A4FF58CDAEABE2AA132EA92956906CBEC0DA21D194D9A2CC66B2B37046EC955823CB91A9FED034534781492E4B8EEADDF4906C53AD08F48C79554A2A72441328621D336A7BC284946AD531847A6065AED8438A78DFE0A9EC79554A2A72441321D95598F8B11C588794DB285CF8A07CEFC4C38C612E6C07F\\r\\nX-C8649E89: 1C3962B70DF3F0ADD4B3C1CD9B5CE977221D93EE93388A139F612A77E88288920776B5B2C279835F17BCBE6708A5A68D02015372BE9702A2927DC94AA7F6EED3ABAB0477E45EE5E206F57F9AB763AB3C0255BA9932B1D916E396CFA0AA74237A9B815B7972F6FBBE28C0B6FA0AA112DCE3296C48CEFA3E1D52EE4E5D9E54FDA44C41F94D744909CE1EADD12B465F39FBC4431412290859603C6A815EC3624256F00F23F92CBBCE963FCF178C6DD14203\\r\\nX-D57D3AED: 3ZO7eAau8CL7WIMRKs4sN3D3tLDjz0dLbV79QFUyzQ2Ujvy7cMT6pYYqY16iZVKkSc3dCLJ7zSJH7+u4VD18S7Vl4ZUrpaVfd2+vE6kuoey4m4VkSEu530nj6fImhcD4MUrOEAnl0W826KZ9Q+tr59cQFxbtK52nntMKog2zW1LwTDbZjg0ktGWyd3ZwR5M2G0g+gzS0PKce1EalHCI8JmdVOguzqe7NYGIdyO1h/MezVKT5tTeEFuWv7aBHbDbs0lQXTWwniVL+cteaZSiF2g==\\r\\nX-F696D7D5: Rp59jfzDEZ2wob0225Rf4qq18YmOSpYRn6iLvfyxvbb+cteaZSiF2g==\\r\\nX-Mras: Ok\\r\\nX-Spam: undefined\\r\\nX-Mailru-Intl-Transport: d,d02522c\\r\\n\\r\\n--MXFDb0M4LWs4OUJ3QS1OYg==\\r\\nContent-Type: multipart/alternative; \\r\\n\\tboundary=\"----=_Part_13021810_2129904242.1687555192071\"\\r\\n\\r\\n------=_Part_13021810_2129904242.1687555192071\\r\\nContent-Type: text/plain; charset=UTF-8\\r\\nContent-Transfer-Encoding: base64\\r\\n\\r\\nCgrQl9C00YDQsNCy0YHRgtCy0YPQudGC0LUhCsKgCtCS0Ysg0L/RgNC40LPQu9Cw0YjQtdC90Ysg\\r\\n0LIg0L3QvtCy0YvQuSDQs9C+0YEuINC/0YDQvtC10LrRgiEK0KEg0L/QvtC80L7RidGM0Y4g0L3Q\\r\\nsNGI0LXQs9C+INGB0LDQudGC0LAg0LLRiyDQvNC+0LbQtdGC0LUK0L/QvtC70YPRh9Cw0YLRjCDQ\\r\\ntNC+0L/QvtC70L3QuNGC0LXQu9GM0L3Ri9C5INC00L7RhdC+0LQg0LIg0YDQsNC30LzQtdGA0LUg\\r\\n0L7RggotIDcyLDUwMCDRgNGD0LHQu9C10Lkg0LXQttC10LzQtdGB0Y/Rh9C90L4uCsKgCsKgCgrQ\\r\\nn9C+0LTRgNC+0LHQvdC10LUKCsKgCsKgCsKgCsKgCsKgCsKgCsKgCtCS0LDQttC90L4hINCf0YDQ\\r\\nuNCz0LvQsNGI0LXQvdC40LUg0LTQtdC50YHRgtCy0LjRgtC10LvRjNC90L4g0LIg0YLQtdGH0LXQ\\r\\nvdC40LUg0YHRg9GC0L7QuiDRgSDQvNC+0LzQtdC90YLQsCDQv9GA0L7Rh9GC0LXQvdC40Y8g0L/Q\\r\\nuNGB0YzQvNCwLiAoaHR0cHM6Ly90cmsuZW1sYmVzdC5jb20vcnUvc3Vic2NyaWJlX2NvbmZpcm0/\\r\\naGFzaD02amJpcmJpYnNpYXI4cGQ3eDh1cmd3aXA3aXpjNHNzOG91bzgzdHloNWZhOHA5Ym41amVr\\r\\nZmVjNXRwZ2ZrNGVueTU1NGU5bmhtaXJnbWsp\\r\\n------=_Part_13021810_2129904242.1687555192071\\r\\nContent-Type: text/html; charset=UTF-8\\r\\nContent-Transfer-Encoding: quoted-printable\\r\\n\\r\\n<html xmlns:v=3D\"urn:schemas-microsoft-com:vml\" xmlns:o=3D\"urn:schemas-micr=\\r\\nosoft-com:office:office\" lang=3D\"en\">\\r\\n<head>\\r\\n<title></title>\\r\\n<meta name=3D\"viewport\" content=3D\"width=3Ddevice-width,initial-scale=3D1\">\\r\\n<!--[if mso]><xml></xml><![endif]--><style>\\r\\n*{box-sizing:border-box}body{margin:0;padding:0}a[x-apple-data-detectors]{c=\\r\\nolor:inherit!important;text-decoration:inherit!important}#MessageViewBody a=\\r\\n{color:inherit;text-decoration:none}p{line-height:inherit}.desktop_hide,.de=\\r\\nsktop_hide table{mso-hide:all;display:none;max-height:0;overflow:hidden}.im=\\r\\nage_block img+div{display:none} @media (max-width:620px){.row-content{width=\\r\\n:100%!important}.mobile_hide{display:none}.stack .column{width:100%;display=\\r\\n:block}.mobile_hide{min-height:0;max-height:0;max-width:0;overflow:hidden;f=\\r\\nont-size:0}.desktop_hide,.desktop_hide table{display:table!important;max-he=\\r\\night:none!important}}\\r\\n</style>\\r\\n</head>\\r\\n<body style=3D\"background-color:#f6f6f6;margin:0;padding:0;-webkit-text-siz=\\r\\ne-adjust:none;text-size-adjust:none\">\\r\\n<table class=3D\"nl-container\" width=3D\"100%\" border=3D\"0\" cellpadding=3D\"0\"=\\r\\n cellspacing=3D\"0\" role=3D\"presentation\" style=3D\"mso-table-lspace:0;mso-ta=\\r\\nble-rspace:0;background-color:#f6f6f6\"><tbody><tr><td><table class=3D\"row r=\\r\\now-1\" align=3D\"center\" width=3D\"100%\" border=3D\"0\" cellpadding=3D\"0\" cellsp=\\r\\nacing=3D\"0\" role=3D\"presentation\" style=3D\"mso-table-lspace:0;mso-table-rsp=\\r\\nace:0\"><tbody><tr><td><table class=3D\"row-content stack\" align=3D\"center\" b=\\r\\norder=3D\"0\" cellpadding=3D\"0\" cellspacing=3D\"0\" role=3D\"presentation\" style=\\r\\n=3D\"mso-table-lspace:0;mso-table-rspace:0;border-radius:0;color:#000;width:=\\r\\n600px\" width=3D\"600\"><tbody><tr><td class=3D\"column column-1\" width=3D\"100%=\\r\\n\" style=3D\"mso-table-lspace:0;mso-table-rspace:0;font-weight:400;text-align=\\r\\n:left;padding-bottom:5px;padding-top:5px;vertical-align:top;border-top:0;bo=\\r\\nrder-right:0;border-bottom:0;border-left:0\">\\r\\n<table class=3D\"text_block block-1\" width=3D\"100%\" border=3D\"0\" cellpadding=\\r\\n=3D\"10\" cellspacing=3D\"0\" role=3D\"presentation\" style=3D\"mso-table-lspace:0=\\r\\n;mso-table-rspace:0;word-break:break-word\"><tr><td class=3D\"pad\"><div style=\\r\\n=3D\"font-family:sans-serif\"><div class style=3D\"font-size:14px;font-family:=\\r\\nArial,Helvetica Neue,Helvetica,sans-serif;mso-line-height-alt:16.8px;color:=\\r\\n#555;line-height:1.2\">\\r\\n<p style=3D\"margin:0;mso-line-height-alt:16.8px\">=D0=97=D0=B4=D1=80=D0=B0=\\r\\n=D0=B2=D1=81=D1=82=D0=B2=D1=83=D0=B9=D1=82=D0=B5!</p>\\r\\n<p style=3D\"margin:0;mso-line-height-alt:16.8px\">=C2=A0</p>\\r\\n<p style=3D\"margin:0;mso-line-height-alt:16.8px\">\\r\\n=D0=92=D1=8B =D0=BF=D1=80=D0=B8=D0=B3=D0=BB=D0=B0=D1=88=D0=B5=D0=BD=D1=8B =\\r\\n=D0=B2 =D0=BD=D0=BE=D0=B2=D1=8B=D0=B9 =D0=B3=D0=BE=D1=81. =D0=BF=D1=80=D0=\\r\\n=BE=D0=B5=D0=BA=D1=82!</p>\\r\\n<p style=3D\"margin:0;mso-line-height-alt:16.8px\">=D0=A1 =D0=BF=D0=BE=D0=BC=\\r\\n=D0=BE=D1=89=D1=8C=D1=8E =D0=BD=D0=B0=D1=88=D0=B5=D0=B3=D0=BE =D1=81=D0=B0=\\r\\n=D0=B9=D1=82=D0=B0 =D0=B2=D1=8B =D0=BC=D0=BE=D0=B6=D0=B5=D1=82=D0=B5</p>\\r\\n<p style=3D\"margin:0;mso-line-height-alt:16.8px\">=D0=BF=D0=BE=D0=BB=D1=83=\\r\\n=D1=87=D0=B0=D1=82=D1=8C =D0=B4=D0=BE=D0=BF=D0=BE=D0=BB=D0=BD=D0=B8=D1=82=\\r\\n=D0=B5=D0=BB=D1=8C=D0=BD=D1=8B=D0=B9 =D0=B4=D0=BE=D1=85=D0=BE=D0=B4 =D0=B2 =\\r\\n=D1=80=D0=B0=D0=B7=D0=BC=D0=B5=D1=80=D0=B5 =D0=BE=D1=82</p>\\r\\n<p style=3D\"margin:0;mso-line-height-alt:16.8px\">- 72,500 =D1=80=D1=83=D0=\\r\\n=B1=D0=BB=D0=B5=D0=B9 =D0=B5=D0=B6=D0=B5=D0=BC=D0=B5=D1=81=D1=8F=D1=87=D0=\\r\\n=BD=D0=BE.</p>\\r\\n<p style=3D\"margin:0;mso-line-height-alt:16.8px\">=C2=A0</p>\\r\\n<p style=3D\"margin:0;mso-line-height-alt:16.8px\">=C2=A0</p>\\r\\n</div></div></td></tr></table>\\r\\n<table class=3D\"button_block block-2\" width=3D\"100%\" border=3D\"0\" cellpaddi=\\r\\nng=3D\"10\" cellspacing=3D\"0\" role=3D\"presentation\" style=3D\"mso-table-lspace=\\r\\n:0;mso-table-rspace:0\"><tr><td class=3D\"pad\"><div class=3D\"alignment\" align=\\r\\n=3D\"left\">\\r\\n<!--[if mso]><v:roundrect xmlns:v=3D\"urn:schemas-microsoft-com:vml\" xmlns:w=\\r\\n=3D\"urn:schemas-microsoft-com:office:word\" href=3D\"https://trk.emlbest.com/=\\r\\nru/subscribe_confirm?hash=3D6wp7iyfbeaor14ma5wrn4yqpcewu11n6yajc118sbd8siwi=\\r\\ncq6iynfmckwrts7gbz5xarp3cdwbt433ycop1x51ghoegi6qy34j3onoo\" style=3D\"height:=\\r\\n42px;width:122px;v-text-anchor:middle;\" arcsize=3D\"10%\" stroke=3D\"false\" fi=\\r\\nllcolor=3D\"#d31919\"><v:textbox inset=3D\"0px,0px,0px,0px\"><center style=3D\"c=\\r\\nolor:#ffffff; font-family:Arial, sans-serif; font-size:16px\"><![endif]-->\\r\\n<a href=3D\"https://trk.emlbest.com/ru/subscribe_confirm?hash=3D6wp7iyfbeaor=\\r\\n14ma5wrn4yqpcewu11n6yajc118sbd8siwicq6iynfmckwrts7gbz5xarp3cdwbt433ycop1x51=\\r\\nghoegi6qy34j3onoo\" target=3D\"_blank\" style=3D\"text-decoration:none;display:=\\r\\ninline-block;color:#ffffff;background-color:#d31919;border-radius:4px;width=\\r\\n:auto;border-top:0px solid transparent;font-weight:400;border-right:0px sol=\\r\\nid transparent;border-bottom:0px solid transparent;border-left:0px solid tr=\\r\\nansparent;padding-top:5px;padding-bottom:5px;font-family:Arial, Helvetica N=\\r\\neue, Helvetica, sans-serif;font-size:16px;text-align:center;mso-border-alt:=\\r\\nnone;word-break:keep-all;\"><span style=3D\"padding-left:20px;padding-right:2=\\r\\n0px;font-size:16px;display:inline-block;letter-spacing:normal;\"><span style=\\r\\n=3D\"word-break: break-word; line-height: 32px;\">=D0=9F=D0=BE=D0=B4=D1=80=D0=\\r\\n=BE=D0=B1=D0=BD=D0=B5=D0=B5</span></span></a>\\r\\n<!--[if mso]></center></v:textbox></v:roundrect><![endif]-->\\r\\n</div></td></tr></table>\\r\\n<table class=3D\"text_block block-3\" width=3D\"100%\" border=3D\"0\" cellpadding=\\r\\n=3D\"10\" cellspacing=3D\"0\" role=3D\"presentation\" style=3D\"mso-table-lspace:0=\\r\\n;mso-table-rspace:0;word-break:break-word\"><tr><td class=3D\"pad\"><div style=\\r\\n=3D\"font-family:sans-serif\"><div class style=3D\"font-size:14px;font-family:=\\r\\nArial,Helvetica Neue,Helvetica,sans-serif;mso-line-height-alt:16.8px;color:=\\r\\n#555;line-height:1.2\">\\r\\n<p style=3D\"margin:0;mso-line-height-alt:16.8px\">=C2=A0</p>\\r\\n<p style=3D\"margin:0;mso-line-height-alt:16.8px\">=C2=A0</p>\\r\\n<p style=3D\"margin:0;mso-line-height-alt:16.8px\">=C2=A0</p>\\r\\n<p style=3D\"margin:0;mso-line-height-alt:16.8px\">=C2=A0</p>\\r\\n<p style=3D\"margin:0;mso-line-height-alt:16.8px\">=C2=A0</p>\\r\\n<p style=3D\"margin:0;mso-line-height-alt:16.8px\">=C2=A0</p>\\r\\n<p style=3D\"margin:0;mso-line-height-alt:16.8px\">=C2=A0</p>\\r\\n<p style=3D\"margin:0;mso-line-height-alt:16.8px\">\\r\\n=D0=92=D0=B0=D0=B6=D0=BD=D0=BE! =D0=9F=D1=80=D0=B8=D0=B3=D0=BB=D0=B0=D1=88=\\r\\n=D0=B5=D0=BD=D0=B8=D0=B5 =D0=B4=D0=B5=D0=B9=D1=81=D1=82=D0=B2=D0=B8=D1=82=\\r\\n=D0=B5=D0=BB=D1=8C=D0=BD=D0=BE =D0=B2 =D1=82=D0=B5=D1=87=D0=B5=D0=BD=D0=B8=\\r\\n=D0=B5 =D1=81=D1=83=D1=82=D0=BE=D0=BA =D1=81 =D0=BC=D0=BE=D0=BC=D0=B5=D0=BD=\\r\\n=D1=82=D0=B0 =D0=BF=D1=80=D0=BE=D1=87=D1=82=D0=B5=D0=BD=D0=B8=D1=8F =D0=BF=\\r\\n=D0=B8=D1=81=D1=8C=D0=BC=D0=B0<span style=3D\"font-size:8px;\"><a href=3D\"htt=\\r\\nps://trk.emlbest.com/ru/subscribe_confirm?hash=3D6jbirbibsiar8pd7x8urgwip7i=\\r\\nzc4ss8ouo83tyh5fa8p9bn5jekfec5tpgfk4eny554e9nhmirgmk\" target=3D\"_blank\" sty=\\r\\nle=3D\"text-decoration: underline; color: #555555;\" rel=3D\"noopener\">.</a></=\\r\\nspan></p>\\r\\n</div></div></td></tr></table>\\r\\n</td></tr></tbody></table></td></tr></tbody></table></td></tr></tbody></tab=\\r\\nle>\\r\\n<!-- End -->\\r\\n</body>\\r\\n</html>\\r\\n------=_Part_13021810_2129904242.1687555192071--\\r\\n\\r\\n--MXFDb0M4LWs4OUJ3QS1OYg==--\\r\\n'"
      ]
     },
     "execution_count": 33,
     "metadata": {},
     "output_type": "execute_result"
    }
   ],
   "source": [
    "result, data = imap.uid('fetch', latest_email_uid, '(RFC822)')\n",
    "raw_email = data[0][-1]\n",
    "raw_email"
   ]
  },
  {
   "attachments": {},
   "cell_type": "markdown",
   "metadata": {},
   "source": [
    "Анализ необработанных писем"
   ]
  },
  {
   "cell_type": "code",
   "execution_count": 34,
   "metadata": {},
   "outputs": [
    {
     "data": {
      "text/plain": [
       "<email.message.Message at 0x7f4b7676c950>"
      ]
     },
     "execution_count": 34,
     "metadata": {},
     "output_type": "execute_result"
    }
   ],
   "source": [
    "email_message = email.message_from_bytes(raw_email)\n",
    "email_message"
   ]
  },
  {
   "cell_type": "code",
   "execution_count": 35,
   "metadata": {},
   "outputs": [
    {
     "data": {
      "text/plain": [
       "'<E1qCoC8-k89BwA-Nb@ucs302-ucs-15.msgpanel.com>'"
      ]
     },
     "execution_count": 35,
     "metadata": {},
     "output_type": "execute_result"
    }
   ],
   "source": [
    "email_message['Message-ID']"
   ]
  },
  {
   "cell_type": "code",
   "execution_count": 37,
   "metadata": {},
   "outputs": [
    {
     "data": {
      "text/plain": [
       "'<postman5886126@mail.emlbest.com>'"
      ]
     },
     "execution_count": 37,
     "metadata": {},
     "output_type": "execute_result"
    }
   ],
   "source": [
    "email_message['Return-path']"
   ]
  },
  {
   "cell_type": "code",
   "execution_count": 166,
   "metadata": {},
   "outputs": [
    {
     "data": {
      "text/plain": [
       "'vostrov_so@bk.ru'"
      ]
     },
     "execution_count": 166,
     "metadata": {},
     "output_type": "execute_result"
    }
   ],
   "source": [
    "email_message['To']"
   ]
  },
  {
   "cell_type": "code",
   "execution_count": 167,
   "metadata": {},
   "outputs": [
    {
     "data": {
      "text/plain": [
       "'=?UTF-8?B?0JLRiyDQv9GA0LjQs9C70LDRiNC10L3RiyA=?=\\r\\n =?UTF-8?B?0LIg0L3QvtCy0YvQuSDQv9GA0L7QtdC60YI=?='"
      ]
     },
     "execution_count": 167,
     "metadata": {},
     "output_type": "execute_result"
    }
   ],
   "source": [
    "email_message[\"Subject\"]"
   ]
  },
  {
   "cell_type": "code",
   "execution_count": 168,
   "metadata": {},
   "outputs": [
    {
     "data": {
      "text/plain": [
       "[(b'\\xd0\\x92\\xd1\\x8b \\xd0\\xbf\\xd1\\x80\\xd0\\xb8\\xd0\\xb3\\xd0\\xbb\\xd0\\xb0\\xd1\\x88\\xd0\\xb5\\xd0\\xbd\\xd1\\x8b \\xd0\\xb2 \\xd0\\xbd\\xd0\\xbe\\xd0\\xb2\\xd1\\x8b\\xd0\\xb9 \\xd0\\xbf\\xd1\\x80\\xd0\\xbe\\xd0\\xb5\\xd0\\xba\\xd1\\x82',\n",
       "  'utf-8')]"
      ]
     },
     "execution_count": 168,
     "metadata": {},
     "output_type": "execute_result"
    }
   ],
   "source": [
    "decode_header(email_message['Subject'])"
   ]
  },
  {
   "attachments": {},
   "cell_type": "markdown",
   "metadata": {},
   "source": [
    "Получили и декодировали тему письма"
   ]
  },
  {
   "cell_type": "code",
   "execution_count": 169,
   "metadata": {},
   "outputs": [
    {
     "data": {
      "text/plain": [
       "'Вы приглашены в новый проект'"
      ]
     },
     "execution_count": 169,
     "metadata": {},
     "output_type": "execute_result"
    }
   ],
   "source": [
    "decode_header(email_message['Subject'])[0][0].decode()"
   ]
  },
  {
   "cell_type": "code",
   "execution_count": 181,
   "metadata": {},
   "outputs": [
    {
     "data": {
      "text/plain": [
       "'Онлайн Проект'"
      ]
     },
     "execution_count": 181,
     "metadata": {},
     "output_type": "execute_result"
    }
   ],
   "source": [
    "decode_header(email_message['From'])[0][0].decode()"
   ]
  },
  {
   "cell_type": "code",
   "execution_count": null,
   "metadata": {},
   "outputs": [
    {
     "data": {
      "text/plain": [
       "'=?UTF-8?B?0J7QvdC70LDQudC9INCf0YDQvtC10LrRgg==?= <mail-inform@sociologist.com>'"
      ]
     },
     "execution_count": 145,
     "metadata": {},
     "output_type": "execute_result"
    }
   ],
   "source": [
    "email_message['From']"
   ]
  },
  {
   "cell_type": "code",
   "execution_count": 177,
   "metadata": {},
   "outputs": [],
   "source": [
    "msg = email_message"
   ]
  },
  {
   "cell_type": "code",
   "execution_count": 178,
   "metadata": {},
   "outputs": [
    {
     "name": "stdout",
     "output_type": "stream",
     "text": [
      "multipart/alternative\n"
     ]
    }
   ],
   "source": [
    "payload = msg.get_payload()\n",
    "for part in payload:\n",
    "    print(part.get_content_type())"
   ]
  },
  {
   "cell_type": "code",
   "execution_count": 179,
   "metadata": {},
   "outputs": [
    {
     "name": "stdout",
     "output_type": "stream",
     "text": [
      "multipart/mixed\n",
      "multipart/alternative\n",
      "text/plain\n",
      "text/html\n"
     ]
    }
   ],
   "source": [
    "for part in msg.walk():\n",
    "    print(part.get_content_type())"
   ]
  },
  {
   "cell_type": "code",
   "execution_count": 180,
   "metadata": {},
   "outputs": [
    {
     "name": "stdout",
     "output_type": "stream",
     "text": [
      "\n",
      "\n",
      "Здравствуйте!\n",
      " \n",
      "Вы приглашены в новый гос. проект!\n",
      "С помощью нашего сайта вы можете\n",
      "получать дополнительный доход в размере от\n",
      "- 72,500 рублей ежемесячно.\n",
      " \n",
      " \n",
      "\n",
      "Подробнее\n",
      "\n",
      " \n",
      " \n",
      " \n",
      " \n",
      " \n",
      " \n",
      " \n",
      "Важно! Приглашение действительно в течение суток с момента прочтения письма. (https://trk.emlbest.com/ru/subscribe_confirm?hash=6jbirbibsiar8pd7x8urgwip7izc4ss8ouo83tyh5fa8p9bn5jekfec5tpgfk4eny554e9nhmirgmk)\n"
     ]
    }
   ],
   "source": [
    "for part in msg.walk():\n",
    "    if part.get_content_maintype() == 'text' and part.get_content_subtype() == 'plain':\n",
    "        print(base64.b64decode(part.get_payload()).decode())"
   ]
  },
  {
   "cell_type": "code",
   "execution_count": null,
   "metadata": {},
   "outputs": [],
   "source": []
  }
 ],
 "metadata": {
  "kernelspec": {
   "display_name": ".venv",
   "language": "python",
   "name": "python3"
  },
  "language_info": {
   "codemirror_mode": {
    "name": "ipython",
    "version": 3
   },
   "file_extension": ".py",
   "mimetype": "text/x-python",
   "name": "python",
   "nbconvert_exporter": "python",
   "pygments_lexer": "ipython3",
   "version": "3.11.0rc1"
  },
  "orig_nbformat": 4
 },
 "nbformat": 4,
 "nbformat_minor": 2
}
