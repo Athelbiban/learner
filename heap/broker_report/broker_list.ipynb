{
 "cells": [
  {
   "cell_type": "code",
   "execution_count": 1,
   "metadata": {},
   "outputs": [],
   "source": [
    "import pandas as pd\n",
    "import matplotlib as plt\n",
    "import seaborn as sns"
   ]
  },
  {
   "cell_type": "code",
   "execution_count": 5,
   "metadata": {},
   "outputs": [],
   "source": [
    "portfolio = pd.read_csv('portfolio.csv')\n",
    "portfolio['Дата'] = pd.to_datetime(portfolio['Дата'])"
   ]
  },
  {
   "cell_type": "code",
   "execution_count": 27,
   "metadata": {},
   "outputs": [
    {
     "name": "stdout",
     "output_type": "stream",
     "text": [
      "<class 'pandas.core.frame.DataFrame'>\n",
      "RangeIndex: 377 entries, 0 to 376\n",
      "Data columns (total 16 columns):\n",
      " #   Column            Non-Null Count  Dtype         \n",
      "---  ------            --------------  -----         \n",
      " 0   Дата заключения   377 non-null    datetime64[ns]\n",
      " 1   Дата расчетов     377 non-null    datetime64[ns]\n",
      " 2   Время             377 non-null    object        \n",
      " 3   Наименование      377 non-null    object        \n",
      " 4   Код               377 non-null    object        \n",
      " 5   Валюта            377 non-null    object        \n",
      " 6   Вид               377 non-null    object        \n",
      " 7   Количество        377 non-null    int64         \n",
      " 8   Цена              377 non-null    float64       \n",
      " 9   Сумма             377 non-null    float64       \n",
      " 10  НКД               377 non-null    float64       \n",
      " 11  Комиссия Брокера  377 non-null    float64       \n",
      " 12  Комиссия Биржи    377 non-null    float64       \n",
      " 13  Номер сделки      377 non-null    int64         \n",
      " 14  Комментарий       0 non-null      float64       \n",
      " 15  Статус            377 non-null    object        \n",
      "dtypes: datetime64[ns](2), float64(6), int64(2), object(6)\n",
      "memory usage: 47.2+ KB\n"
     ]
    }
   ],
   "source": [
    "transactions = pd.read_csv('transactions.csv')\n",
    "transactions['Дата заключения'] = pd.to_datetime(transactions['Дата заключения'], dayfirst=True)\n",
    "transactions['Дата расчетов'] = pd.to_datetime(transactions['Дата расчетов'], dayfirst=True)\n",
    "transactions.info()"
   ]
  },
  {
   "cell_type": "code",
   "execution_count": 14,
   "metadata": {},
   "outputs": [
    {
     "data": {
      "text/html": [
       "<div>\n",
       "<style scoped>\n",
       "    .dataframe tbody tr th:only-of-type {\n",
       "        vertical-align: middle;\n",
       "    }\n",
       "\n",
       "    .dataframe tbody tr th {\n",
       "        vertical-align: top;\n",
       "    }\n",
       "\n",
       "    .dataframe thead th {\n",
       "        text-align: right;\n",
       "    }\n",
       "</style>\n",
       "<table border=\"1\" class=\"dataframe\">\n",
       "  <thead>\n",
       "    <tr style=\"text-align: right;\">\n",
       "      <th></th>\n",
       "      <th>Дата заключения</th>\n",
       "      <th>Дата расчетов</th>\n",
       "      <th>Время</th>\n",
       "      <th>Наименование</th>\n",
       "      <th>Код</th>\n",
       "      <th>Валюта</th>\n",
       "      <th>Вид</th>\n",
       "      <th>Количество</th>\n",
       "      <th>Цена</th>\n",
       "      <th>Сумма</th>\n",
       "      <th>НКД</th>\n",
       "      <th>Комиссия Брокера</th>\n",
       "      <th>Комиссия Биржи</th>\n",
       "      <th>Номер сделки</th>\n",
       "      <th>Комментарий</th>\n",
       "      <th>Статус</th>\n",
       "    </tr>\n",
       "  </thead>\n",
       "  <tbody>\n",
       "    <tr>\n",
       "      <th>0</th>\n",
       "      <td>30.12.2021</td>\n",
       "      <td>04.01.2022</td>\n",
       "      <td>16:22:03</td>\n",
       "      <td>FXGDETF</td>\n",
       "      <td>FXGD</td>\n",
       "      <td>RUB</td>\n",
       "      <td>Продажа</td>\n",
       "      <td>1</td>\n",
       "      <td>906.2</td>\n",
       "      <td>906.2</td>\n",
       "      <td>0.0</td>\n",
       "      <td>0.54</td>\n",
       "      <td>0.09</td>\n",
       "      <td>4829207953</td>\n",
       "      <td>NaN</td>\n",
       "      <td>И</td>\n",
       "    </tr>\n",
       "    <tr>\n",
       "      <th>1</th>\n",
       "      <td>30.12.2021</td>\n",
       "      <td>04.01.2022</td>\n",
       "      <td>16:24:34</td>\n",
       "      <td>FXGDETF</td>\n",
       "      <td>FXGD</td>\n",
       "      <td>RUB</td>\n",
       "      <td>Покупка</td>\n",
       "      <td>1</td>\n",
       "      <td>906.4</td>\n",
       "      <td>906.4</td>\n",
       "      <td>0.0</td>\n",
       "      <td>0.55</td>\n",
       "      <td>0.09</td>\n",
       "      <td>4829216361</td>\n",
       "      <td>NaN</td>\n",
       "      <td>И</td>\n",
       "    </tr>\n",
       "    <tr>\n",
       "      <th>2</th>\n",
       "      <td>30.12.2021</td>\n",
       "      <td>04.01.2022</td>\n",
       "      <td>16:25:48</td>\n",
       "      <td>FXGDETF</td>\n",
       "      <td>FXGD</td>\n",
       "      <td>RUB</td>\n",
       "      <td>Продажа</td>\n",
       "      <td>1</td>\n",
       "      <td>906.4</td>\n",
       "      <td>906.4</td>\n",
       "      <td>0.0</td>\n",
       "      <td>0.54</td>\n",
       "      <td>0.09</td>\n",
       "      <td>4829221233</td>\n",
       "      <td>NaN</td>\n",
       "      <td>И</td>\n",
       "    </tr>\n",
       "    <tr>\n",
       "      <th>3</th>\n",
       "      <td>30.12.2021</td>\n",
       "      <td>04.01.2022</td>\n",
       "      <td>16:27:05</td>\n",
       "      <td>FXGDETF</td>\n",
       "      <td>FXGD</td>\n",
       "      <td>RUB</td>\n",
       "      <td>Продажа</td>\n",
       "      <td>1</td>\n",
       "      <td>906.2</td>\n",
       "      <td>906.2</td>\n",
       "      <td>0.0</td>\n",
       "      <td>0.54</td>\n",
       "      <td>0.09</td>\n",
       "      <td>4829225682</td>\n",
       "      <td>NaN</td>\n",
       "      <td>И</td>\n",
       "    </tr>\n",
       "    <tr>\n",
       "      <th>4</th>\n",
       "      <td>30.12.2021</td>\n",
       "      <td>04.01.2022</td>\n",
       "      <td>16:30:25</td>\n",
       "      <td>FXGDETF</td>\n",
       "      <td>FXGD</td>\n",
       "      <td>RUB</td>\n",
       "      <td>Покупка</td>\n",
       "      <td>2</td>\n",
       "      <td>906.8</td>\n",
       "      <td>1813.6</td>\n",
       "      <td>0.0</td>\n",
       "      <td>1.09</td>\n",
       "      <td>0.17</td>\n",
       "      <td>4829239337</td>\n",
       "      <td>NaN</td>\n",
       "      <td>И</td>\n",
       "    </tr>\n",
       "  </tbody>\n",
       "</table>\n",
       "</div>"
      ],
      "text/plain": [
       "  Дата заключения Дата расчетов     Время Наименование   Код Валюта      Вид   \n",
       "0      30.12.2021    04.01.2022  16:22:03      FXGDETF  FXGD    RUB  Продажа  \\\n",
       "1      30.12.2021    04.01.2022  16:24:34      FXGDETF  FXGD    RUB  Покупка   \n",
       "2      30.12.2021    04.01.2022  16:25:48      FXGDETF  FXGD    RUB  Продажа   \n",
       "3      30.12.2021    04.01.2022  16:27:05      FXGDETF  FXGD    RUB  Продажа   \n",
       "4      30.12.2021    04.01.2022  16:30:25      FXGDETF  FXGD    RUB  Покупка   \n",
       "\n",
       "   Количество   Цена   Сумма  НКД  Комиссия Брокера  Комиссия Биржи   \n",
       "0           1  906.2   906.2  0.0              0.54            0.09  \\\n",
       "1           1  906.4   906.4  0.0              0.55            0.09   \n",
       "2           1  906.4   906.4  0.0              0.54            0.09   \n",
       "3           1  906.2   906.2  0.0              0.54            0.09   \n",
       "4           2  906.8  1813.6  0.0              1.09            0.17   \n",
       "\n",
       "   Номер сделки  Комментарий Статус  \n",
       "0    4829207953          NaN      И  \n",
       "1    4829216361          NaN      И  \n",
       "2    4829221233          NaN      И  \n",
       "3    4829225682          NaN      И  \n",
       "4    4829239337          NaN      И  "
      ]
     },
     "execution_count": 14,
     "metadata": {},
     "output_type": "execute_result"
    }
   ],
   "source": [
    "transactions.head()"
   ]
  },
  {
   "cell_type": "code",
   "execution_count": 41,
   "metadata": {},
   "outputs": [
    {
     "data": {
      "text/plain": [
       "array([datetime.time(17, 10, 23), datetime.time(11, 2, 51)], dtype=object)"
      ]
     },
     "execution_count": 41,
     "metadata": {},
     "output_type": "execute_result"
    }
   ],
   "source": [
    "a = ['17:10:23', '11:02:51']\n",
    "b = pd.Series(a)\n",
    "pd.to_datetime(a, format='%H:%M:%S').time"
   ]
  },
  {
   "cell_type": "code",
   "execution_count": null,
   "metadata": {},
   "outputs": [],
   "source": []
  }
 ],
 "metadata": {
  "kernelspec": {
   "display_name": ".venv",
   "language": "python",
   "name": "python3"
  },
  "language_info": {
   "codemirror_mode": {
    "name": "ipython",
    "version": 3
   },
   "file_extension": ".py",
   "mimetype": "text/x-python",
   "name": "python",
   "nbconvert_exporter": "python",
   "pygments_lexer": "ipython3",
   "version": "3.10.6"
  },
  "orig_nbformat": 4
 },
 "nbformat": 4,
 "nbformat_minor": 2
}
